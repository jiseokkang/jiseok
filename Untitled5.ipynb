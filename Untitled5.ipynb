{
  "nbformat": 4,
  "nbformat_minor": 0,
  "metadata": {
    "colab": {
      "provenance": [],
      "authorship_tag": "ABX9TyNeuZhnw93WnthqX5326ilk",
      "include_colab_link": true
    },
    "kernelspec": {
      "name": "python3",
      "display_name": "Python 3"
    },
    "language_info": {
      "name": "python"
    }
  },
  "cells": [
    {
      "cell_type": "markdown",
      "metadata": {
        "id": "view-in-github",
        "colab_type": "text"
      },
      "source": [
        "<a href=\"https://colab.research.google.com/github/jiseokkang/jiseok/blob/main/Untitled5.ipynb\" target=\"_parent\"><img src=\"https://colab.research.google.com/assets/colab-badge.svg\" alt=\"Open In Colab\"/></a>"
      ]
    },
    {
      "cell_type": "code",
      "execution_count": 1,
      "metadata": {
        "colab": {
          "base_uri": "https://localhost:8080/"
        },
        "id": "OjyaKmkm9CZS",
        "outputId": "e0485f27-c762-4ff1-feb2-60cb8549216a"
      },
      "outputs": [
        {
          "output_type": "stream",
          "name": "stdout",
          "text": [
            "1 : 4 번\n",
            "2 : 3 번\n",
            "3 : 4 번\n",
            "1등: [1, 3]\n"
          ]
        }
      ],
      "source": [
        "nums = [1, 1, 1, 2, 2, 3, 2, 3, 3, 3, 1]\n",
        "def max_count(nums):\n",
        "  counts = {}\n",
        "  for i in nums:\n",
        "      if i in counts:\n",
        "         counts[i] += 1\n",
        "      else:\n",
        "         counts[i] = 1\n",
        "  return counts\n",
        "counts = max_count(nums)\n",
        "first = []\n",
        "max_num = max(counts.values())\n",
        "for name, count in counts.items():\n",
        "    print(name, ':', count,'번')\n",
        "    if count == max_num:\n",
        "        first.append(name)\n",
        "print('1등:', first)"
      ]
    },
    {
      "cell_type": "code",
      "source": [
        "text = \"AI! 나는 인공지능 로봇 입니다. 나는 'AI 로봇' 입니다.\"\n",
        "def max_counts(text):\n",
        "  counts = {}\n",
        "  for i in text.split(' '):\n",
        "      if i in counts:\n",
        "         counts[i] += 1\n",
        "      else:\n",
        "         counts[i] = 1\n",
        "  return counts\n",
        "max_counts(text)"
      ],
      "metadata": {
        "colab": {
          "base_uri": "https://localhost:8080/"
        },
        "id": "fsvaEnP39Lnq",
        "outputId": "c5f68916-9964-4a33-d0f0-3f3e3489531b"
      },
      "execution_count": 2,
      "outputs": [
        {
          "output_type": "execute_result",
          "data": {
            "text/plain": [
              "{'AI!': 1, '나는': 2, '인공지능': 1, '로봇': 1, '입니다.': 2, \"'AI\": 1, \"로봇'\": 1}"
            ]
          },
          "metadata": {},
          "execution_count": 2
        }
      ]
    },
    {
      "cell_type": "code",
      "source": [
        "people = ['홍', '이', '김', '이', '이', '김']\n",
        "def max_count(people):\n",
        "  counts = {}\n",
        "  for i in people:\n",
        "      if i in counts:\n",
        "         counts[i] += 1\n",
        "      else:\n",
        "         counts[i] = 1\n",
        "  return counts\n",
        "counts = max_count(people)\n",
        "print(counts)"
      ],
      "metadata": {
        "colab": {
          "base_uri": "https://localhost:8080/"
        },
        "id": "vUg6MgeK9OJn",
        "outputId": "0d0c40f0-ffd8-4ea6-a9ab-1726da31d7e4"
      },
      "execution_count": 3,
      "outputs": [
        {
          "output_type": "stream",
          "name": "stdout",
          "text": [
            "{'홍': 1, '이': 3, '김': 2}\n"
          ]
        }
      ]
    },
    {
      "cell_type": "code",
      "source": [
        "nums = [1, 1, 1, 2, 2, 3, 2, 3, 3, 3, 1]\n",
        "def max_count(nums):\n",
        "  counts = {}\n",
        "  for i in nums:\n",
        "      if i in counts:\n",
        "         counts[i] += 1\n",
        "      else:\n",
        "         counts[i] = 1\n",
        "  return counts\n",
        "counts = max_count(nums)\n",
        "first = []\n",
        "max_num = max(counts.values())\n",
        "for name, count in counts.items():\n",
        "    print(name, ':', count,'번')\n",
        "    if count == max_num:\n",
        "        first.append(name)\n",
        "print('1등:', first)"
      ],
      "metadata": {
        "colab": {
          "base_uri": "https://localhost:8080/"
        },
        "id": "thAc0tOU9RM1",
        "outputId": "f1bdffe1-0ceb-47e5-e057-a981225f09bb"
      },
      "execution_count": 4,
      "outputs": [
        {
          "output_type": "stream",
          "name": "stdout",
          "text": [
            "1 : 4 번\n",
            "2 : 3 번\n",
            "3 : 4 번\n",
            "1등: [1, 3]\n"
          ]
        }
      ]
    }
  ]
}