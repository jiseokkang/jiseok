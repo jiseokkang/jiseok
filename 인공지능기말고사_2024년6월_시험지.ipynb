{
  "nbformat": 4,
  "nbformat_minor": 0,
  "metadata": {
    "colab": {
      "provenance": [],
      "include_colab_link": true
    },
    "kernelspec": {
      "name": "python3",
      "display_name": "Python 3"
    }
  },
  "cells": [
    {
      "cell_type": "markdown",
      "metadata": {
        "id": "view-in-github",
        "colab_type": "text"
      },
      "source": [
        "<a href=\"https://colab.research.google.com/github/jiseokkang/jiseok/blob/main/%EC%9D%B8%EA%B3%B5%EC%A7%80%EB%8A%A5%EA%B8%B0%EB%A7%90%EA%B3%A0%EC%82%AC_2024%EB%85%846%EC%9B%94_%EC%8B%9C%ED%97%98%EC%A7%80.ipynb\" target=\"_parent\"><img src=\"https://colab.research.google.com/assets/colab-badge.svg\" alt=\"Open In Colab\"/></a>"
      ]
    },
    {
      "cell_type": "markdown",
      "source": [
        "\n",
        "\n",
        "---\n",
        "\n"
      ],
      "metadata": {
        "id": "5xVssEDAvl2E"
      }
    },
    {
      "cell_type": "markdown",
      "source": [
        "[시험안내]<br>\n",
        "<b>\n",
        "* 총 7문제 입니다: 주관식 3문제, 코딩 4문제\n",
        "* 2024년 6월 21일(금), 11:59pm까지 LearnUs에 제출 해주세요"
      ],
      "metadata": {
        "id": "ZUISKBXEvXB3"
      }
    },
    {
      "cell_type": "markdown",
      "source": [
        "\n",
        "\n",
        "---\n",
        "\n"
      ],
      "metadata": {
        "id": "GY153Gjrutlu"
      }
    },
    {
      "cell_type": "markdown",
      "source": [
        "## 기말고사 문제 1 <br>\n",
        "> a) 인공지능, 머신러닝, 딥러닝간의 관계를 상위집합 > 하위집합으로 나타내보세요 (예: A>B>C) <br>\n",
        "> b) 머신러닝 구현의 4단계에 대해 서술해 보세요. <br>\n",
        "> c) 머신러닝에서 지도학습, 비지도학습, 강화학습에 대해 서술해 보세요."
      ],
      "metadata": {
        "id": "eOTTkXGPuPAE"
      }
    },
    {
      "cell_type": "code",
      "source": [
        "# 코딩 셀이지만 여기에 텍스트로 답안을 작성해 주세요\n",
        "\n",
        "a) 인공지능 > 머신러닝 > 딥러닝\n",
        "b) 1. 데이터 수집 2. 데이터 전처리 3. 모델 학습 4. 모델 평가\n",
        "c) 1. 지도학습 : 입력 데이터와 그에 대응하는 출력 데이터를 사용하여 모델을 학습시키는 방법\n",
        "   2. 비지도학습 : 레이블이 없는 데이터를 사용하여 구조나 패턴을 발견하는 학습 방법, 목표는 데이터의 군집이나 차원 축소를 통해 의미 있는 정보를 추출하는 것\n",
        "   3. 강화학습 : 에이전트가 환경과 상호작용하며 보상을 최대화하는 방향으로 학습하는 방"
      ],
      "metadata": {
        "id": "44c0rgwFuOwl",
        "collapsed": true
      },
      "execution_count": null,
      "outputs": []
    },
    {
      "cell_type": "markdown",
      "source": [
        "\n",
        "\n",
        "---\n",
        "\n"
      ],
      "metadata": {
        "id": "OaSt4HIiuxqr"
      }
    },
    {
      "cell_type": "markdown",
      "source": [
        "## 기말고사 문제 2\n",
        "> 인공신경망(Artificial Neural Network)에 대해 서술해 보세요"
      ],
      "metadata": {
        "id": "G4KqwHhnuOJ2"
      }
    },
    {
      "cell_type": "code",
      "source": [
        "# 코딩 셀이지만 여기에 텍스트로 답안을 작성해 주세요\n",
        "\n",
        "인공신경망은 기계학습과 인지과학에서 생물학의 신경망에서 영감을 얻은 알고리즘이다.\n",
        "인공신경망은 시냅스의 결합으로 네트워크를 형성한 인공뉴런이 학습을 통해 시냅스의 결합 세기를 변화시켜, 문제 해결 능력을 가지는 모델 전반을 가리킨다."
      ],
      "metadata": {
        "id": "wQ6qzB8MuNte"
      },
      "execution_count": null,
      "outputs": []
    },
    {
      "cell_type": "markdown",
      "source": [
        "\n",
        "\n",
        "---\n",
        "\n"
      ],
      "metadata": {
        "id": "qiXF-8Cxu00D"
      }
    },
    {
      "cell_type": "markdown",
      "source": [
        "## 기말고사 문제 3\n",
        "> 딥러닝에서 \"고전적인 ANN기반 심층신경망 구조\"와 \"CNN+ANN 심층신경망 구조\"의 결정적인 차이에 대해 비교 서술해 보세요."
      ],
      "metadata": {
        "id": "t_ddYubouGQm"
      }
    },
    {
      "cell_type": "code",
      "source": [
        "# 코딩 셀이지만 여기에 텍스트로 답안을 작성해 주세요\n",
        "\n",
        "ANN은 Input을 받아 Output을 도출하는 학습시시간이 느린것에 비해\n",
        "CNN+ANN은 데이터의 형상을 유지하여 학습 속도가 매우 빠르다."
      ],
      "metadata": {
        "id": "Aq85fvOouFve"
      },
      "execution_count": null,
      "outputs": []
    },
    {
      "cell_type": "markdown",
      "source": [
        "\n",
        "\n",
        "---\n",
        "\n"
      ],
      "metadata": {
        "id": "5ACXyBJ5u2fT"
      }
    },
    {
      "cell_type": "markdown",
      "source": [
        "## 기말고사 문제 4"
      ],
      "metadata": {
        "id": "22WfmJ39-Wy8"
      }
    },
    {
      "cell_type": "markdown",
      "source": [
        "[문제4 - 결정 트리] Y대학교 인근 마트의 와인 코너에서는 총 3가지 종류의 와인을 취급한다.\n",
        "\n",
        "와인 공장으로부터 새로운 물품이 들어왔을 때, 와인을 분류할 수 있는 <b>결정 트리</b> 기반의 분류기를 만들어보자."
      ],
      "metadata": {
        "id": "WiqI-nyNOyEN"
      }
    },
    {
      "cell_type": "code",
      "source": [
        "import graphviz\n",
        "import numpy as np\n",
        "import matplotlib.pyplot as plt\n",
        "\n",
        "from sklearn import tree, datasets\n",
        "from sklearn.datasets import load_wine\n",
        "from sklearn.metrics import accuracy_score\n",
        "from sklearn.model_selection import train_test_split"
      ],
      "metadata": {
        "id": "agpt3rD4O7M2"
      },
      "execution_count": 4,
      "outputs": []
    },
    {
      "cell_type": "code",
      "source": [
        "# 와인 데이터셋으로부터 알 수 있는 와인의 특징(feature_names)과 이름(target_name)을 출력하세요.\n",
        "wine = load_wine()\n",
        "print(wine.feature_names)                                     # None 부분을 작성하세요.\n",
        "print(wine.target_names)                                     # None 부분을 작성하세요.\n",
        "\n",
        "\n",
        "# 와인 데이터셋으로부터 입력 데이터 셋 X와 출력 데이터 셋 y로 분리하세요.\n",
        "X, y =  wine.data, wine.target                              # None 부분을 작성하세요.\n",
        "\n",
        "\n",
        "# 와인 분류기(결정트리)를 설계할 때, 모든 데이터 특징을 사용하는 것이 아닌\n",
        "# \"Flavanoids\"와 \"Color Intensity\" 만을 사용하고자 한다.\n",
        "X = np.stack([X[:,6], X[:,9]], axis=1)\n",
        "\n",
        "\n",
        "# 텐서 플로우에서 제공하는 함수를 사용하여, 8:2 비율로 학습용 데이터 셋과 검증용 데이터 셋으로 각각 분리하세요.\n",
        "X_train, X_test, y_train, y_test = train_test_split(X, y, test_size=0.2, random_state=42)         # None 부분을 작성하세요.\n",
        "\n",
        "\n",
        "# 결정트리를 생성하고 학습하세요.\n",
        "clf = DecisionTreeClassifier(random_state=42)\n",
        "clf.fit(X_train, y_train)                                            # None 부분을 작성하세요.\n",
        "\n",
        "\n",
        "# 검증용 데이터 셋을 사용하여 학습된 결정 트리의 성능을 확인하세요.\n",
        "y_pred = clf.predict(X_test)\n",
        "accuracy = accuracy_score(y_test, y_pred)\n",
        "print(f'모델 정확도: {accuracy * 100:.2f}%')                                            # None 부분을 작성하세요."
      ],
      "metadata": {
        "id": "htpvQsyJO7KR"
      },
      "execution_count": null,
      "outputs": []
    },
    {
      "cell_type": "markdown",
      "source": [
        "![image.png](data:image/png;base64,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)"
      ],
      "metadata": {
        "id": "bwefNythQ4f-"
      }
    },
    {
      "cell_type": "code",
      "source": [
        "# 위 그림은 와인 데이터셋을 그림으로 표현한 모습이다.\n",
        "# 위 그림처럼 등장하도록 코드를 작성하세요.\n",
        "# None 부분을 채워 넣으세요.\n",
        "plt.plot(X_train[y_train==0][:,0], X_train[y_train==0][:,1], \"ro\", label=\"Class 0\")\n",
        "plt.plot(X_train[y_train==1][:,0], X_train[y_train==1][:,1], \"bo\", label=\"Class 1\")\n",
        "plt.plot(X_train[y_train==2][:,0], X_train[y_train==2][:,1], \"yo\", label=\"Class 2\")\n",
        "\n",
        "plt.xlabel('Flavanoids')                                          # None 부분을 채워 넣으세요.\n",
        "plt.ylabel('Color Intensity')                                          # None 부분을 채워 넣으세요.\n",
        "\n",
        "\n",
        "\n",
        "plt.xlim([0,4])\n",
        "plt.ylim([0,15])\n",
        "plt.legend()\n",
        "plt.show()"
      ],
      "metadata": {
        "id": "9ddyKpROOxhK",
        "colab": {
          "base_uri": "https://localhost:8080/",
          "height": 449
        },
        "outputId": "9511747e-5f3c-4418-f1c8-6f543deb1a61"
      },
      "execution_count": 14,
      "outputs": [
        {
          "output_type": "display_data",
          "data": {
            "text/plain": [
              "<Figure size 640x480 with 1 Axes>"
            ],
            "image/png": "[encoded data removed]"
          },
          "metadata": {}
        }
      ]
    },
    {
      "cell_type": "markdown",
      "source": [
        "\n",
        "\n",
        "---\n",
        "\n"
      ],
      "metadata": {
        "id": "lBBjGfj9u5NL"
      }
    },
    {
      "cell_type": "markdown",
      "source": [
        "## 기말고사 문제 5\n"
      ],
      "metadata": {
        "id": "yoKG23x5RmPw"
      }
    },
    {
      "cell_type": "markdown",
      "source": [
        "[문제5 - 이진 분류기] Y 대학교에서는 검은 고양이와 회색 고양이를 흔하게 볼 수 있습니다. 두 고양이의 꼬리 길이와 몸통 길이를 관측하여 그림으로 그려보면 아래처럼 표현됩니다."
      ],
      "metadata": {
        "id": "YiMfMip3gWl3"
      }
    },
    {
      "cell_type": "code",
      "source": [
        "import numpy as np\n",
        "import matplotlib.pyplot as plt\n",
        "\n",
        "from keras import models\n",
        "from keras import layers\n",
        "\n",
        "from sklearn.datasets import make_blobs, make_classification\n",
        "from sklearn.model_selection import train_test_split\n",
        "\n",
        "data, labels = make_classification(n_samples=1000, n_features=2, n_informative=2, n_redundant=0,\n",
        "                           n_clusters_per_class=1, random_state=1)\n",
        "\n",
        "plt.scatter(data[labels==0][:,0]+5, data[labels==0][:,1]+5, c=\"gray\")\n",
        "plt.scatter(data[labels==1][:,0]+5, data[labels==1][:,1]+5, c=\"black\")\n",
        "plt.xlabel(\"Length of Tail\")\n",
        "plt.ylabel(\"Length of Body\")\n",
        "\n",
        "plt.legend([\"Gray Cats\", \"Black Cats\"])\n",
        "plt.show()"
      ],
      "metadata": {
        "id": "hAlCvPRnVOLR"
      },
      "execution_count": null,
      "outputs": []
    },
    {
      "cell_type": "code",
      "source": [
        "# 텐서 플로우에서 제공하는 함수를 사용하여, 학습용 데이터 셋과 검증용 데이터 셋을 9:1로 분리하세요.\n",
        "X_train, X_test, y_train, y_test = train_test_split(data, labels, test_size=0.1, random_state=42)                   # None 부분을 채워 넣으세요.\n",
        "\n",
        "\n",
        "# 텐서 플로우에서 제공하는 Sequential 함수를 사용하여 이진 분류기 모델 \"model\"을 디자인하세요.\n",
        "# 입력층: 2, 활성화 함수: sigmoid\n",
        "# 출력층: 1\n",
        "model = models.Sequential()\n",
        "model.add(layers.Dense(2, activation='sigmoid', input_shape=(2,)))\n",
        "model.add(layers.Dense(1, activation='sigmoid'))                                              # None 부분을 채워 넣으세요.\n",
        "\n",
        "\n",
        "# 텐서 플로우에서 제공하는 특정 함수를 사용하여, 정의한 모델 \"model\"의 전반적인 파라미터를 확인해보세요\n",
        "model.summary()\n",
        "\n",
        "\n",
        "model.compile(optimizer='SGD', loss='binary_crossentropy', metrics=['accuracy'])\n",
        "# 이진 분류기 모델을 epochs를 40, batch_size를 100으로 설정하여 모델을 학습하세요.\n",
        "history = model.fit(X_train, y_train, epochs=40, batch_size=100, validation_split=0.1)                                                      # None 부분을 채워 넣으세요.\n",
        "\n",
        "\n",
        "# 앞서 분리해둔 검증용 데이터 셋을 활용하여, 학습된 이진 분류기 모델의 성능을 검증하고 출력하세요.\n",
        "test_loss, test_acc = model.evaluate(X_test, y_test)\n",
        "print(f'Test accuracy: {test_acc * 100:.2f}%')                                                      # None 부분을 채워 넣으세요."
      ],
      "metadata": {
        "id": "OzIEOBTCVBIb",
        "colab": {
          "base_uri": "https://localhost:8080/",
          "height": 242
        },
        "outputId": "f1ad8276-d3e8-46e7-e6cd-629e05d036bb"
      },
      "execution_count": 25,
      "outputs": [
        {
          "output_type": "error",
          "ename": "NameError",
          "evalue": "name 'data' is not defined",
          "traceback": [
            "\u001b[0;31m---------------------------------------------------------------------------\u001b[0m",
            "\u001b[0;31mNameError\u001b[0m                                 Traceback (most recent call last)",
            "\u001b[0;32m<ipython-input-25-25b87639ad4c>\u001b[0m in \u001b[0;36m<cell line: 2>\u001b[0;34m()\u001b[0m\n\u001b[1;32m      1\u001b[0m \u001b[0;31m# 텐서 플로우에서 제공하는 함수를 사용하여, 학습용 데이터 셋과 검증용 데이터 셋을 9:1로 분리하세요.\u001b[0m\u001b[0;34m\u001b[0m\u001b[0;34m\u001b[0m\u001b[0m\n\u001b[0;32m----> 2\u001b[0;31m \u001b[0mX_train\u001b[0m\u001b[0;34m,\u001b[0m \u001b[0mX_test\u001b[0m\u001b[0;34m,\u001b[0m \u001b[0my_train\u001b[0m\u001b[0;34m,\u001b[0m \u001b[0my_test\u001b[0m \u001b[0;34m=\u001b[0m \u001b[0mtrain_test_split\u001b[0m\u001b[0;34m(\u001b[0m\u001b[0mdata\u001b[0m\u001b[0;34m,\u001b[0m \u001b[0mlabels\u001b[0m\u001b[0;34m,\u001b[0m \u001b[0mtest_size\u001b[0m\u001b[0;34m=\u001b[0m\u001b[0;36m0.1\u001b[0m\u001b[0;34m,\u001b[0m \u001b[0mrandom_state\u001b[0m\u001b[0;34m=\u001b[0m\u001b[0;36m42\u001b[0m\u001b[0;34m)\u001b[0m                   \u001b[0;31m# None 부분을 채워 넣으세요.\u001b[0m\u001b[0;34m\u001b[0m\u001b[0;34m\u001b[0m\u001b[0m\n\u001b[0m\u001b[1;32m      3\u001b[0m \u001b[0;34m\u001b[0m\u001b[0m\n\u001b[1;32m      4\u001b[0m \u001b[0;34m\u001b[0m\u001b[0m\n\u001b[1;32m      5\u001b[0m \u001b[0;31m# 텐서 플로우에서 제공하는 Sequential 함수를 사용하여 이진 분류기 모델 \"model\"을 디자인하세요.\u001b[0m\u001b[0;34m\u001b[0m\u001b[0;34m\u001b[0m\u001b[0m\n",
            "\u001b[0;31mNameError\u001b[0m: name 'data' is not defined"
          ]
        }
      ]
    },
    {
      "cell_type": "code",
      "source": [
        "# 이진 분류기 모델의 가중치는 직선 함수(ax + b)의 계수를 의미합니다. 계수 a와 b를 구하세요.\n",
        "weights, bias = model.layers[0].get_weights()\n",
        "a = -weights[0] / weights[1]\n",
        "b = -bias / weights[1]                                                     # None 부분을 채워 넣으세요.\n",
        "\n",
        "\n",
        "# 분기선을 그리기 위해, numpy의 linspace 함수를 사용하여 x와 y를 구하세요.\n",
        "x = np.linspace(X_train[:, 0].min(), X_train[:, 0].max(), 100)\n",
        "y = a * x + b                                                      # None 부분을 채워 넣으세요.\n",
        "\n",
        "\n",
        "plt.figure()\n",
        "plt.plot(x, y, color='red', label='Boundary')\n",
        "plt.scatter(X_train[:, 0], X_train[:, 1], c=y_train, s=20)\n",
        "plt.legend()"
      ],
      "metadata": {
        "id": "hCbwNlIGVBGF"
      },
      "execution_count": null,
      "outputs": []
    },
    {
      "cell_type": "markdown",
      "source": [
        "\n",
        "\n",
        "---\n",
        "\n"
      ],
      "metadata": {
        "id": "CFv5Hcmcu_Ur"
      }
    },
    {
      "cell_type": "markdown",
      "source": [
        "## 기말고사 문제 6"
      ],
      "metadata": {
        "id": "Y2FzfIYMRn1m"
      }
    },
    {
      "cell_type": "markdown",
      "source": [
        "[문제6 - 리니어 모델] MNIST 데이터를 사용하여 사용자의 필기체를 분류하는 분류기를 디자인하여 봅시다."
      ],
      "metadata": {
        "id": "GFjzWPOgkyqK"
      }
    },
    {
      "cell_type": "code",
      "source": [
        "from tensorflow.keras import datasets\n",
        "from tensorflow.keras import layers, models\n",
        "\n",
        "import matplotlib.pyplot as plt\n",
        "import numpy as np\n",
        "\n",
        "mnist = datasets.mnist\n",
        "(X_train, y_train), (X_test, y_test) = mnist.load_data()\n",
        "\n",
        "# X_train과 X_test를 각각 (60000 X 784), (10000 X 784)로 다시 형성하세요.\n",
        "X_train = X_train.reshape((X_train.shape[0], -1))                                      # None 부분을 채워 넣으세요.\n",
        "X_test = X_test.reshape((X_test.shape[0], -1))                                       # None 부분을 채워 넣으세요.\n",
        "\n",
        "# 아래의 조건에 맞게 \"얕은 신경망 모델\"을 정의하세요.\n",
        "# 입력층 - dim: 784\n",
        "# 은닉층 - dim: 64, activation: relu\n",
        "# 출력층 - dim: 10, activation: softmax\n",
        "model = models.Sequential([\n",
        "    layers.Dense(64, activation='relu', input_shape=(784,)),\n",
        "    layers.Dense(10, activation='softmax')\n",
        "])                                         # None 부분을 채워 넣으세요.\n",
        "\n",
        "\n",
        "model.compile(optimizer='adam', loss = 'sparse_categorical_crossentropy', metrics=['accuracy'])\n",
        "# epoch를 5로 하여 모델을 학습시키세요.\n",
        "hist = model.fit(X_train, y_train, epochs=5, batch_size=64, validation_split=0.1)                                          # None 부분을 채워 넣으세요.\n",
        "\n",
        "\n",
        "# 학습된 모델의 히스토리에서 loss와 accuracy의 정보를 그래프로 그립니다.\n",
        "plt.figure(figsize=(6, 4))\n",
        "plt.subplot(2,1,1)\n",
        "plt.plot(hist.history['loss'], label = 'loss')\n",
        "plt.legend()\n",
        "plt.grid()\n",
        "\n",
        "plt.subplot(2,1,2)\n",
        "plt.plot(hist.history['accuracy'], label = 'accuracy')\n",
        "plt.ylim([0, 1])\n",
        "plt.legend()\n",
        "plt.grid()\n",
        "\n",
        "plt.show()\n",
        "\n",
        "\n",
        "# 학습된 모델의 성능을 검증해보세요. 그리고, Test loss와 Test accuracy를 출력하세요.\n",
        "test_loss, test_accuracy = model.evaluate(X_test, y_test)\n",
        "print(f'Test loss: {test_loss:.4f}')\n",
        "print(f'Test accuracy: {test_accuracy:.4f}')                                                # None 부분을 채워 넣으세요."
      ],
      "metadata": {
        "id": "Kk1o6KPAkwIG",
        "colab": {
          "base_uri": "https://localhost:8080/",
          "height": 610
        },
        "outputId": "90aee132-d7ac-4717-fe4a-5c19bc85272b"
      },
      "execution_count": 22,
      "outputs": [
        {
          "output_type": "stream",
          "name": "stdout",
          "text": [
            "Epoch 1/5\n",
            "844/844 [==============================] - 5s 3ms/step - loss: 3.1846 - accuracy: 0.7503 - val_loss: 0.6123 - val_accuracy: 0.8633\n",
            "Epoch 2/5\n",
            "844/844 [==============================] - 2s 3ms/step - loss: 0.5592 - accuracy: 0.8589 - val_loss: 0.4037 - val_accuracy: 0.9043\n",
            "Epoch 3/5\n",
            "844/844 [==============================] - 2s 3ms/step - loss: 0.4029 - accuracy: 0.8939 - val_loss: 0.3746 - val_accuracy: 0.9142\n",
            "Epoch 4/5\n",
            "844/844 [==============================] - 3s 4ms/step - loss: 0.3206 - accuracy: 0.9146 - val_loss: 0.2834 - val_accuracy: 0.9332\n",
            "Epoch 5/5\n",
            "844/844 [==============================] - 3s 4ms/step - loss: 0.2586 - accuracy: 0.9299 - val_loss: 0.2766 - val_accuracy: 0.9400\n"
          ]
        },
        {
          "output_type": "display_data",
          "data": {
            "text/plain": [
              "<Figure size 600x400 with 2 Axes>"
            ],
            "image/png": "[encoded data removed]"
          },
          "metadata": {}
        },
        {
          "output_type": "stream",
          "name": "stdout",
          "text": [
            "313/313 [==============================] - 1s 2ms/step - loss: 0.3130 - accuracy: 0.9264\n",
            "Test loss: 0.3130\n",
            "Test accuracy: 0.9264\n"
          ]
        }
      ]
    },
    {
      "cell_type": "code",
      "source": [
        "# 아래의 조건에 맞는 \"깊은 신경망 모델\"을 정의하세요.\n",
        "# 입력층 - dim: 784\n",
        "# 은닉층 1 - dim: 64, activation: relu\n",
        "# 은닉층 2 - dim: 64, activation: relu\n",
        "# 은닉층 3 - dim: 128, activation: relu\n",
        "# 출력층 - dim: 10, activation: softmax\n",
        "model = Sequential([\n",
        "    Dense(64, activation='relu', input_shape=(784,)),\n",
        "    Dense(64, activation='relu'),\n",
        "    Dense(128, activation='relu'),\n",
        "    Dense(10, activation='softmax')\n",
        "])                                      # None 부분을 채워 넣으세요.\n",
        "\n",
        "\n",
        "model.compile(optimizer='adam', loss = 'sparse_categorical_crossentropy', metrics=['accuracy'])\n",
        "# epoch를 5로 하여 모델을 학습시키세요.\n",
        "hist = model.fit(X_train, y_train, epochs=5)                                       # None 부분을 채워 넣으세요.\n",
        "\n",
        "\n",
        "# 학습된 모델의 히스토리에서 loss와 accuracy의 정보를 그래프로 그립니다.\n",
        "plt.figure(figsize=(6, 4))\n",
        "\n",
        "plt.subplot(2,1,1)\n",
        "plt.plot(hist.history['loss'], label = 'loss')\n",
        "plt.legend()\n",
        "plt.grid()\n",
        "\n",
        "plt.subplot(2,1,2)\n",
        "plt.plot(hist.history['accuracy'], label = 'accuracy')\n",
        "plt.ylim([0, 1])\n",
        "plt.legend()\n",
        "plt.grid()\n",
        "\n",
        "plt.show()\n",
        "\n",
        "# 학습된 모델의 성능을 검증해보세요. 그리고, Test loss와 Test accuracy를 출력하세요.\n",
        "                                             # None 부분을 채워 넣으세요."
      ],
      "metadata": {
        "id": "YGEpbyFPnrwX",
        "colab": {
          "base_uri": "https://localhost:8080/",
          "height": 223
        },
        "outputId": "9b10e57b-f48a-4dac-e0ed-f7865b8d6e01"
      },
      "execution_count": 31,
      "outputs": [
        {
          "output_type": "error",
          "ename": "NameError",
          "evalue": "name 'Dense' is not defined",
          "traceback": [
            "\u001b[0;31m---------------------------------------------------------------------------\u001b[0m",
            "\u001b[0;31mNameError\u001b[0m                                 Traceback (most recent call last)",
            "\u001b[0;32m<ipython-input-31-d29c8cc500b7>\u001b[0m in \u001b[0;36m<cell line: 8>\u001b[0;34m()\u001b[0m\n\u001b[1;32m      6\u001b[0m \u001b[0;31m# 출력층 - dim: 10, activation: softmax\u001b[0m\u001b[0;34m\u001b[0m\u001b[0;34m\u001b[0m\u001b[0m\n\u001b[1;32m      7\u001b[0m model = ([\n\u001b[0;32m----> 8\u001b[0;31m     \u001b[0mDense\u001b[0m\u001b[0;34m(\u001b[0m\u001b[0;36m64\u001b[0m\u001b[0;34m,\u001b[0m \u001b[0mactivation\u001b[0m\u001b[0;34m=\u001b[0m\u001b[0;34m'relu'\u001b[0m\u001b[0;34m,\u001b[0m \u001b[0minput_shape\u001b[0m\u001b[0;34m=\u001b[0m\u001b[0;34m(\u001b[0m\u001b[0;36m784\u001b[0m\u001b[0;34m,\u001b[0m\u001b[0;34m)\u001b[0m\u001b[0;34m)\u001b[0m\u001b[0;34m,\u001b[0m\u001b[0;34m\u001b[0m\u001b[0;34m\u001b[0m\u001b[0m\n\u001b[0m\u001b[1;32m      9\u001b[0m     \u001b[0mDense\u001b[0m\u001b[0;34m(\u001b[0m\u001b[0;36m64\u001b[0m\u001b[0;34m,\u001b[0m \u001b[0mactivation\u001b[0m\u001b[0;34m=\u001b[0m\u001b[0;34m'relu'\u001b[0m\u001b[0;34m)\u001b[0m\u001b[0;34m,\u001b[0m\u001b[0;34m\u001b[0m\u001b[0;34m\u001b[0m\u001b[0m\n\u001b[1;32m     10\u001b[0m     \u001b[0mDense\u001b[0m\u001b[0;34m(\u001b[0m\u001b[0;36m128\u001b[0m\u001b[0;34m,\u001b[0m \u001b[0mactivation\u001b[0m\u001b[0;34m=\u001b[0m\u001b[0;34m'relu'\u001b[0m\u001b[0;34m)\u001b[0m\u001b[0;34m,\u001b[0m\u001b[0;34m\u001b[0m\u001b[0;34m\u001b[0m\u001b[0m\n",
            "\u001b[0;31mNameError\u001b[0m: name 'Dense' is not defined"
          ]
        }
      ]
    },
    {
      "cell_type": "markdown",
      "source": [],
      "metadata": {
        "id": "K7lvlLeT53dP"
      }
    },
    {
      "cell_type": "markdown",
      "source": [
        "\n",
        "\n",
        "---\n",
        "\n"
      ],
      "metadata": {
        "id": "kWFpNveFu7_D"
      }
    },
    {
      "cell_type": "markdown",
      "source": [
        "## 기말고사 문제 7"
      ],
      "metadata": {
        "id": "5YA2F3ERRnvR"
      }
    },
    {
      "cell_type": "markdown",
      "source": [
        "[문제 7 - CNN] 패션 MNIST 데이터 셋을 사용하여 새로 들어온 이미지를 분류하는 코드를 작성해봅시다."
      ],
      "metadata": {
        "id": "oDcortajFgbo"
      }
    },
    {
      "cell_type": "code",
      "source": [
        "import tensorflow as tf\n",
        "from tensorflow.keras import layers, models\n",
        "\n",
        "import numpy as np\n",
        "import matplotlib.pyplot as plt\n",
        "\n",
        "fashion_mnist = tf.keras.datasets.fashion_mnist\n",
        "\n",
        "(X_train, y_train), (X_test, y_test) = fashion_mnist.load_data()\n",
        "\n",
        "# 아래의 조건에 맞게 \"컨볼루젼 신경망 모델\"을 정의하세요.\n",
        "# 입력층 - dim: 28x28x1\n",
        "# 컨볼루젼층1 - dim: 32, kernel: (5x5), padding:same, activation: relu\n",
        "# 맥스풀링층1 - pool_size: (2x2), stride: (2,2)\n",
        "# 컨볼루젼층2 - dim: 64, kernel: (2x2), padding:same, activation: relu\n",
        "# 맥스풀링층2 - pool_size: (2x2)\n",
        "# 드롭층 - 비율:0.25\n",
        "# 평탄화층(flattening)\n",
        "# 은닉층 - dim: 1000, activation: relu\n",
        "# 출력층 - dim: 10, activation: softmax\n",
        "model = Sequential([\n",
        "    Conv2D(32, (5, 5), padding='same', activation='relu', input_shape=(28, 28, 1)),\n",
        "    MaxPooling2D(pool_size=(2, 2), strides=(2, 2)),\n",
        "    Conv2D(64, (2, 2), padding='same', activation='relu'),\n",
        "    MaxPooling2D(pool_size=(2, 2)),\n",
        "    Dropout(0.25),\n",
        "    Flatten(),\n",
        "    Dense(1000, activation='relu'),\n",
        "    Dense(10, activation='softmax')\n",
        "])                                   # None 부분을 채워 넣으세요.\n",
        "\n",
        "\n",
        "model.compile(optimizer='adam', loss = 'sparse_categorical_crossentropy', metrics=['accuracy'])\n",
        "# epoch를 5로 하여 모델을 학습시키세요.\n",
        "hist = model.fit(X_train, y_train, epochs=5, validation_data=(X_test, y_test))                                    # None 부분을 채워 넣으세요.\n",
        "\n",
        "\n",
        "# 학습된 모델의 히스토리에서 loss와 accuracy의 정보를 그래프로 그립니다.\n",
        "plt.figure(figsize=(6, 4))\n",
        "\n",
        "plt.subplot(2,1,1)\n",
        "plt.plot(hist.history['loss'], label = 'loss')\n",
        "plt.legend()\n",
        "plt.grid()\n",
        "\n",
        "plt.subplot(2,1,2)\n",
        "plt.plot(hist.history['accuracy'], label = 'accuracy')\n",
        "plt.ylim([0, 1])\n",
        "plt.legend()\n",
        "plt.grid()\n",
        "\n",
        "plt.show()\n",
        "\n",
        "\n",
        "# 학습된 모델의 성능을 검증해보세요. 그리고, Test loss와 Test accuracy를 출력하세요.\n",
        "test_loss, test_accuracy = model.evaluate(X_test, y_test, verbose=2)                                              # None 부분을 채워 넣으세요."
      ],
      "metadata": {
        "id": "YSZSifYE9YcJ",
        "colab": {
          "base_uri": "https://localhost:8080/",
          "height": 223
        },
        "outputId": "1663c5c2-f98d-4db9-cef3-5eb41d024184"
      },
      "execution_count": 33,
      "outputs": [
        {
          "output_type": "error",
          "ename": "NameError",
          "evalue": "name 'Sequential' is not defined",
          "traceback": [
            "\u001b[0;31m---------------------------------------------------------------------------\u001b[0m",
            "\u001b[0;31mNameError\u001b[0m                                 Traceback (most recent call last)",
            "\u001b[0;32m<ipython-input-33-1a3828f76c0e>\u001b[0m in \u001b[0;36m<cell line: 21>\u001b[0;34m()\u001b[0m\n\u001b[1;32m     19\u001b[0m \u001b[0;31m# 은닉층 - dim: 1000, activation: relu\u001b[0m\u001b[0;34m\u001b[0m\u001b[0;34m\u001b[0m\u001b[0m\n\u001b[1;32m     20\u001b[0m \u001b[0;31m# 출력층 - dim: 10, activation: softmax\u001b[0m\u001b[0;34m\u001b[0m\u001b[0;34m\u001b[0m\u001b[0m\n\u001b[0;32m---> 21\u001b[0;31m model = Sequential([\n\u001b[0m\u001b[1;32m     22\u001b[0m     \u001b[0mConv2D\u001b[0m\u001b[0;34m(\u001b[0m\u001b[0;36m32\u001b[0m\u001b[0;34m,\u001b[0m \u001b[0;34m(\u001b[0m\u001b[0;36m5\u001b[0m\u001b[0;34m,\u001b[0m \u001b[0;36m5\u001b[0m\u001b[0;34m)\u001b[0m\u001b[0;34m,\u001b[0m \u001b[0mpadding\u001b[0m\u001b[0;34m=\u001b[0m\u001b[0;34m'same'\u001b[0m\u001b[0;34m,\u001b[0m \u001b[0mactivation\u001b[0m\u001b[0;34m=\u001b[0m\u001b[0;34m'relu'\u001b[0m\u001b[0;34m,\u001b[0m \u001b[0minput_shape\u001b[0m\u001b[0;34m=\u001b[0m\u001b[0;34m(\u001b[0m\u001b[0;36m28\u001b[0m\u001b[0;34m,\u001b[0m \u001b[0;36m28\u001b[0m\u001b[0;34m,\u001b[0m \u001b[0;36m1\u001b[0m\u001b[0;34m)\u001b[0m\u001b[0;34m)\u001b[0m\u001b[0;34m,\u001b[0m\u001b[0;34m\u001b[0m\u001b[0;34m\u001b[0m\u001b[0m\n\u001b[1;32m     23\u001b[0m     \u001b[0mMaxPooling2D\u001b[0m\u001b[0;34m(\u001b[0m\u001b[0mpool_size\u001b[0m\u001b[0;34m=\u001b[0m\u001b[0;34m(\u001b[0m\u001b[0;36m2\u001b[0m\u001b[0;34m,\u001b[0m \u001b[0;36m2\u001b[0m\u001b[0;34m)\u001b[0m\u001b[0;34m,\u001b[0m \u001b[0mstrides\u001b[0m\u001b[0;34m=\u001b[0m\u001b[0;34m(\u001b[0m\u001b[0;36m2\u001b[0m\u001b[0;34m,\u001b[0m \u001b[0;36m2\u001b[0m\u001b[0;34m)\u001b[0m\u001b[0;34m)\u001b[0m\u001b[0;34m,\u001b[0m\u001b[0;34m\u001b[0m\u001b[0;34m\u001b[0m\u001b[0m\n",
            "\u001b[0;31mNameError\u001b[0m: name 'Sequential' is not defined"
          ]
        }
      ]
    },
    {
      "cell_type": "markdown",
      "source": [
        "\n",
        "\n",
        "---\n",
        "\n"
      ],
      "metadata": {
        "id": "ZgjsCdE_vCjD"
      }
    },
    {
      "cell_type": "markdown",
      "source": [
        "한 학기동안 너무 수고 많으셨고, 열정적으로 수업에 참여해 주심에 감사드립니다.<br>\n",
        "항상 건강하시고 기회가 되면 또 뵙도록 하겠습니다."
      ],
      "metadata": {
        "id": "temyawZVvDbr"
      }
    }
  ]
}