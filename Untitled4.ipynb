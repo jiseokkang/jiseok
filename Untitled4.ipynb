{
  "nbformat": 4,
  "nbformat_minor": 0,
  "metadata": {
    "colab": {
      "provenance": [],
      "authorship_tag": "ABX9TyNxmUPfv78wI4whNjBfq6TW",
      "include_colab_link": true
    },
    "kernelspec": {
      "name": "python3",
      "display_name": "Python 3"
    },
    "language_info": {
      "name": "python"
    }
  },
  "cells": [
    {
      "cell_type": "markdown",
      "metadata": {
        "id": "view-in-github",
        "colab_type": "text"
      },
      "source": [
        "<a href=\"https://colab.research.google.com/github/jiseokkang/jiseok/blob/main/Untitled4.ipynb\" target=\"_parent\"><img src=\"https://colab.research.google.com/assets/colab-badge.svg\" alt=\"Open In Colab\"/></a>"
      ]
    },
    {
      "cell_type": "code",
      "source": [
        "training_data = [['연두', 3, '사과'],\n",
        "                 ['노랑', 3, '사과'],\n",
        "                 ['빨강', 2, '포도'],\n",
        "                 ['빨강', 1, '포도'],\n",
        "                 ['노랑', 3, '레몬']]\n",
        "def fruit_counts(data):\n",
        "  counts = {}\n",
        "  for row in data:\n",
        "    label = row[-1]\n",
        "    if label not in counts:\n",
        "      counts[label] = 0\n",
        "    counts[label] += 1\n",
        "  return counts\n",
        "result = fruit_counts(training_data)\n",
        "print(result)"
      ],
      "metadata": {
        "colab": {
          "base_uri": "https://localhost:8080/"
        },
        "id": "WobCWhECadRR",
        "outputId": "3078f2b9-2969-43ee-bd9b-0826cda50ee6"
      },
      "execution_count": 35,
      "outputs": [
        {
          "output_type": "stream",
          "name": "stdout",
          "text": [
            "{'사과': 2, '포도': 2, '레몬': 1}\n"
          ]
        }
      ]
    }
  ]
}