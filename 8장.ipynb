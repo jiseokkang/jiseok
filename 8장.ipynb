{
  "nbformat": 4,
  "nbformat_minor": 0,
  "metadata": {
    "colab": {
      "provenance": [],
      "authorship_tag": "ABX9TyPPsVCtg0nzWjWMmPvU2Epv",
      "include_colab_link": true
    },
    "kernelspec": {
      "name": "python3",
      "display_name": "Python 3"
    },
    "language_info": {
      "name": "python"
    }
  },
  "cells": [
    {
      "cell_type": "markdown",
      "metadata": {
        "id": "view-in-github",
        "colab_type": "text"
      },
      "source": [
        "<a href=\"https://colab.research.google.com/github/jiseokkang/jiseok/blob/main/8%EC%9E%A5.ipynb\" target=\"_parent\"><img src=\"https://colab.research.google.com/assets/colab-badge.svg\" alt=\"Open In Colab\"/></a>"
      ]
    },
    {
      "cell_type": "code",
      "execution_count": 1,
      "metadata": {
        "colab": {
          "base_uri": "https://localhost:8080/",
          "height": 449
        },
        "id": "8Pm5OzOBMwYK",
        "outputId": "f93dde71-91be-4786-ee7e-6bb1c44f01be"
      },
      "outputs": [
        {
          "output_type": "display_data",
          "data": {
            "text/plain": [
              "<Figure size 640x480 with 1 Axes>"
            ],
            "image/png": "[encoded data removed]"
          },
          "metadata": {}
        }
      ],
      "source": [
        "import numpy as np\n",
        "import matplotlib.pyplot as plt\n",
        "dogs = 1000        # 1000 마리\n",
        "cats = 1000\n",
        "\n",
        "dog_height = 35  + (5* np.random.randn(dogs))\n",
        "cat_height = 30 + (5 * np.random.randn(cats))\n",
        "\n",
        "plt.xlabel('Height')\n",
        "plt.ylabel('Number of Species')\n",
        "plt.hist([dog_height, cat_height], label=['Dogs', 'Cats'], stacked=True, color=['r', 'y'])\n",
        "plt.legend()\n",
        "plt.show()"
      ]
    },
    {
      "cell_type": "code",
      "source": [
        "# features = [[270, \"울퉁불퉁\"], [250, \"울퉁불퉁\"], [220, \"매끈\"], [240, \"매끈\"]]\n",
        "features = [[270, 0], [250, 0], [220, 1], [240, 1]] # 0: 울퉁불퉁, 1:매끈\n",
        "labels = [0, 0, 1, 1] # 0:오렌지, 1:사과"
      ],
      "metadata": {
        "id": "0NRoiLUkN_Id"
      },
      "execution_count": 47,
      "outputs": []
    },
    {
      "cell_type": "code",
      "source": [
        "from sklearn import tree\n",
        "\n",
        "features = [[270, 0], [250, 0], [220, 1], [240, 1]]\n",
        "labels = [0, 0, 1, 1]\n",
        "\n",
        "clf = tree.DecisionTreeClassifier()\n",
        "clf = clf.fit(features, labels)\n",
        "\n",
        "# print(clf.predict([[245, 1]]))"
      ],
      "metadata": {
        "id": "e6prMPegOmwd"
      },
      "execution_count": 11,
      "outputs": []
    },
    {
      "cell_type": "code",
      "source": [
        "print(clf.predict([[245, 1]]))"
      ],
      "metadata": {
        "colab": {
          "base_uri": "https://localhost:8080/"
        },
        "id": "HBxdqSLvPb70",
        "outputId": "06cbf82e-b688-427e-f34a-eea3efb4c654"
      },
      "execution_count": 12,
      "outputs": [
        {
          "output_type": "stream",
          "name": "stdout",
          "text": [
            "[1]\n"
          ]
        }
      ]
    },
    {
      "cell_type": "code",
      "source": [
        "import graphviz\n",
        "\n",
        "dot_data = tree.export_graphviz(clf, out_file=None)\n",
        "graph = graphviz.Source(dot_data)\n",
        "graph.render()\n",
        "\n",
        "dot_data = tree.export_graphviz(clf, out_file=None, filled=True, rounded=True, special_characters=True)\n",
        "graph = graphviz.Source(dot_data)\n",
        "graph"
      ],
      "metadata": {
        "colab": {
          "base_uri": "https://localhost:8080/",
          "height": 235
        },
        "id": "DtzKrJyKQEdQ",
        "outputId": "86b3de00-597b-491d-ae3f-40beedc6c790"
      },
      "execution_count": 13,
      "outputs": [
        {
          "output_type": "execute_result",
          "data": {
            "image/svg+xml": "<?xml version=\"1.0\" encoding=\"UTF-8\" standalone=\"no\"?>\n<!DOCTYPE svg PUBLIC \"-//W3C//DTD SVG 1.1//EN\"\n \"http://www.w3.org/Graphics/SVG/1.1/DTD/svg11.dtd\">\n<!-- Generated by graphviz version 2.43.0 (0)\n -->\n<!-- Title: Tree Pages: 1 -->\n<svg width=\"216pt\" height=\"161pt\"\n viewBox=\"0.00 0.00 216.00 161.00\" xmlns=\"http://www.w3.org/2000/svg\" xmlns:xlink=\"http://www.w3.org/1999/xlink\">\n<g id=\"graph0\" class=\"graph\" transform=\"scale(1 1) rotate(0) translate(4 157)\">\n<title>Tree</title>\n<polygon fill=\"white\" stroke=\"transparent\" points=\"-4,4 -4,-157 212,-157 212,4 -4,4\"/>\n<!-- 0 -->\n<g id=\"node1\" class=\"node\">\n<title>0</title>\n<path fill=\"#ffffff\" stroke=\"black\" d=\"M139,-153C139,-153 68,-153 68,-153 62,-153 56,-147 56,-141 56,-141 56,-101 56,-101 56,-95 62,-89 68,-89 68,-89 139,-89 139,-89 145,-89 151,-95 151,-101 151,-101 151,-141 151,-141 151,-147 145,-153 139,-153\"/>\n<text text-anchor=\"start\" x=\"72\" y=\"-138.8\" font-family=\"Helvetica,sans-Serif\" font-size=\"14.00\">x</text>\n<text text-anchor=\"start\" x=\"79\" y=\"-138.8\" font-family=\"Helvetica,sans-Serif\" baseline-shift=\"sub\" font-size=\"14.00\">0</text>\n<text text-anchor=\"start\" x=\"86\" y=\"-138.8\" font-family=\"Helvetica,sans-Serif\" font-size=\"14.00\"> ≤ 245.0</text>\n<text text-anchor=\"start\" x=\"75.5\" y=\"-124.8\" font-family=\"Helvetica,sans-Serif\" font-size=\"14.00\">gini = 0.5</text>\n<text text-anchor=\"start\" x=\"66\" y=\"-110.8\" font-family=\"Helvetica,sans-Serif\" font-size=\"14.00\">samples = 4</text>\n<text text-anchor=\"start\" x=\"64\" y=\"-96.8\" font-family=\"Helvetica,sans-Serif\" font-size=\"14.00\">value = [2, 2]</text>\n</g>\n<!-- 1 -->\n<g id=\"node2\" class=\"node\">\n<title>1</title>\n<path fill=\"#399de5\" stroke=\"black\" d=\"M83,-53C83,-53 12,-53 12,-53 6,-53 0,-47 0,-41 0,-41 0,-12 0,-12 0,-6 6,0 12,0 12,0 83,0 83,0 89,0 95,-6 95,-12 95,-12 95,-41 95,-41 95,-47 89,-53 83,-53\"/>\n<text text-anchor=\"start\" x=\"19.5\" y=\"-37.8\" font-family=\"Helvetica,sans-Serif\" font-size=\"14.00\">gini = 0.0</text>\n<text text-anchor=\"start\" x=\"10\" y=\"-22.8\" font-family=\"Helvetica,sans-Serif\" font-size=\"14.00\">samples = 2</text>\n<text text-anchor=\"start\" x=\"8\" y=\"-7.8\" font-family=\"Helvetica,sans-Serif\" font-size=\"14.00\">value = [0, 2]</text>\n</g>\n<!-- 0&#45;&gt;1 -->\n<g id=\"edge1\" class=\"edge\">\n<title>0&#45;&gt;1</title>\n<path fill=\"none\" stroke=\"black\" d=\"M84.7,-88.94C79.41,-80.2 73.62,-70.65 68.23,-61.74\"/>\n<polygon fill=\"black\" stroke=\"black\" points=\"71.17,-59.83 62.99,-53.09 65.18,-63.46 71.17,-59.83\"/>\n<text text-anchor=\"middle\" x=\"57.03\" y=\"-73.67\" font-family=\"Helvetica,sans-Serif\" font-size=\"14.00\">True</text>\n</g>\n<!-- 2 -->\n<g id=\"node3\" class=\"node\">\n<title>2</title>\n<path fill=\"#e58139\" stroke=\"black\" d=\"M196,-53C196,-53 125,-53 125,-53 119,-53 113,-47 113,-41 113,-41 113,-12 113,-12 113,-6 119,0 125,0 125,0 196,0 196,0 202,0 208,-6 208,-12 208,-12 208,-41 208,-41 208,-47 202,-53 196,-53\"/>\n<text text-anchor=\"start\" x=\"132.5\" y=\"-37.8\" font-family=\"Helvetica,sans-Serif\" font-size=\"14.00\">gini = 0.0</text>\n<text text-anchor=\"start\" x=\"123\" y=\"-22.8\" font-family=\"Helvetica,sans-Serif\" font-size=\"14.00\">samples = 2</text>\n<text text-anchor=\"start\" x=\"121\" y=\"-7.8\" font-family=\"Helvetica,sans-Serif\" font-size=\"14.00\">value = [2, 0]</text>\n</g>\n<!-- 0&#45;&gt;2 -->\n<g id=\"edge2\" class=\"edge\">\n<title>0&#45;&gt;2</title>\n<path fill=\"none\" stroke=\"black\" d=\"M122.64,-88.94C128.02,-80.2 133.91,-70.65 139.4,-61.74\"/>\n<polygon fill=\"black\" stroke=\"black\" points=\"142.46,-63.44 144.73,-53.09 136.5,-59.77 142.46,-63.44\"/>\n<text text-anchor=\"middle\" x=\"150.51\" y=\"-73.71\" font-family=\"Helvetica,sans-Serif\" font-size=\"14.00\">False</text>\n</g>\n</g>\n</svg>\n",
            "text/plain": [
              "<graphviz.sources.Source at 0x7b125bcf29b0>"
            ]
          },
          "metadata": {},
          "execution_count": 13
        }
      ]
    },
    {
      "cell_type": "code",
      "source": [
        "from sklearn.datasets import load_iris # iris\n",
        "iris = load_iris() # iris 토이 데이터 세트를 iris 변수에 저장\n",
        "print(iris.feature_names) # 특징(feature)들을 출력\n",
        "print(iris.target_names) # 학습 라벨에 해당하는 target을 출력\n",
        "print(iris.data[0]) # 첫 번째 데이터에 저장된 feature값 출력\n",
        "print(iris.target[0]) # 첫 번째 데이터에 저장된 target값 출력"
      ],
      "metadata": {
        "colab": {
          "base_uri": "https://localhost:8080/"
        },
        "id": "Q4utKkNZQGai",
        "outputId": "cf49a4c2-2c77-48c7-838e-06fa50df137b"
      },
      "execution_count": 14,
      "outputs": [
        {
          "output_type": "stream",
          "name": "stdout",
          "text": [
            "['sepal length (cm)', 'sepal width (cm)', 'petal length (cm)', 'petal width (cm)']\n",
            "['setosa' 'versicolor' 'virginica']\n",
            "[5.1 3.5 1.4 0.2]\n",
            "0\n"
          ]
        }
      ]
    },
    {
      "cell_type": "code",
      "source": [
        "from sklearn.datasets import load_iris\n",
        "\n",
        "iris = load_iris()\n",
        "for i in range(len(iris.target)):\n",
        "  print(\"Example %d: label %s, features %s\" % (i, iris.target[i], iris.data[i]))"
      ],
      "metadata": {
        "colab": {
          "base_uri": "https://localhost:8080/"
        },
        "id": "ynSEC1apRVcy",
        "outputId": "7f08714e-de31-46d3-fcd4-ed04cf605300"
      },
      "execution_count": 15,
      "outputs": [
        {
          "output_type": "stream",
          "name": "stdout",
          "text": [
            "Example 0: label 0, features [5.1 3.5 1.4 0.2]\n",
            "Example 1: label 0, features [4.9 3.  1.4 0.2]\n",
            "Example 2: label 0, features [4.7 3.2 1.3 0.2]\n",
            "Example 3: label 0, features [4.6 3.1 1.5 0.2]\n",
            "Example 4: label 0, features [5.  3.6 1.4 0.2]\n",
            "Example 5: label 0, features [5.4 3.9 1.7 0.4]\n",
            "Example 6: label 0, features [4.6 3.4 1.4 0.3]\n",
            "Example 7: label 0, features [5.  3.4 1.5 0.2]\n",
            "Example 8: label 0, features [4.4 2.9 1.4 0.2]\n",
            "Example 9: label 0, features [4.9 3.1 1.5 0.1]\n",
            "Example 10: label 0, features [5.4 3.7 1.5 0.2]\n",
            "Example 11: label 0, features [4.8 3.4 1.6 0.2]\n",
            "Example 12: label 0, features [4.8 3.  1.4 0.1]\n",
            "Example 13: label 0, features [4.3 3.  1.1 0.1]\n",
            "Example 14: label 0, features [5.8 4.  1.2 0.2]\n",
            "Example 15: label 0, features [5.7 4.4 1.5 0.4]\n",
            "Example 16: label 0, features [5.4 3.9 1.3 0.4]\n",
            "Example 17: label 0, features [5.1 3.5 1.4 0.3]\n",
            "Example 18: label 0, features [5.7 3.8 1.7 0.3]\n",
            "Example 19: label 0, features [5.1 3.8 1.5 0.3]\n",
            "Example 20: label 0, features [5.4 3.4 1.7 0.2]\n",
            "Example 21: label 0, features [5.1 3.7 1.5 0.4]\n",
            "Example 22: label 0, features [4.6 3.6 1.  0.2]\n",
            "Example 23: label 0, features [5.1 3.3 1.7 0.5]\n",
            "Example 24: label 0, features [4.8 3.4 1.9 0.2]\n",
            "Example 25: label 0, features [5.  3.  1.6 0.2]\n",
            "Example 26: label 0, features [5.  3.4 1.6 0.4]\n",
            "Example 27: label 0, features [5.2 3.5 1.5 0.2]\n",
            "Example 28: label 0, features [5.2 3.4 1.4 0.2]\n",
            "Example 29: label 0, features [4.7 3.2 1.6 0.2]\n",
            "Example 30: label 0, features [4.8 3.1 1.6 0.2]\n",
            "Example 31: label 0, features [5.4 3.4 1.5 0.4]\n",
            "Example 32: label 0, features [5.2 4.1 1.5 0.1]\n",
            "Example 33: label 0, features [5.5 4.2 1.4 0.2]\n",
            "Example 34: label 0, features [4.9 3.1 1.5 0.2]\n",
            "Example 35: label 0, features [5.  3.2 1.2 0.2]\n",
            "Example 36: label 0, features [5.5 3.5 1.3 0.2]\n",
            "Example 37: label 0, features [4.9 3.6 1.4 0.1]\n",
            "Example 38: label 0, features [4.4 3.  1.3 0.2]\n",
            "Example 39: label 0, features [5.1 3.4 1.5 0.2]\n",
            "Example 40: label 0, features [5.  3.5 1.3 0.3]\n",
            "Example 41: label 0, features [4.5 2.3 1.3 0.3]\n",
            "Example 42: label 0, features [4.4 3.2 1.3 0.2]\n",
            "Example 43: label 0, features [5.  3.5 1.6 0.6]\n",
            "Example 44: label 0, features [5.1 3.8 1.9 0.4]\n",
            "Example 45: label 0, features [4.8 3.  1.4 0.3]\n",
            "Example 46: label 0, features [5.1 3.8 1.6 0.2]\n",
            "Example 47: label 0, features [4.6 3.2 1.4 0.2]\n",
            "Example 48: label 0, features [5.3 3.7 1.5 0.2]\n",
            "Example 49: label 0, features [5.  3.3 1.4 0.2]\n",
            "Example 50: label 1, features [7.  3.2 4.7 1.4]\n",
            "Example 51: label 1, features [6.4 3.2 4.5 1.5]\n",
            "Example 52: label 1, features [6.9 3.1 4.9 1.5]\n",
            "Example 53: label 1, features [5.5 2.3 4.  1.3]\n",
            "Example 54: label 1, features [6.5 2.8 4.6 1.5]\n",
            "Example 55: label 1, features [5.7 2.8 4.5 1.3]\n",
            "Example 56: label 1, features [6.3 3.3 4.7 1.6]\n",
            "Example 57: label 1, features [4.9 2.4 3.3 1. ]\n",
            "Example 58: label 1, features [6.6 2.9 4.6 1.3]\n",
            "Example 59: label 1, features [5.2 2.7 3.9 1.4]\n",
            "Example 60: label 1, features [5.  2.  3.5 1. ]\n",
            "Example 61: label 1, features [5.9 3.  4.2 1.5]\n",
            "Example 62: label 1, features [6.  2.2 4.  1. ]\n",
            "Example 63: label 1, features [6.1 2.9 4.7 1.4]\n",
            "Example 64: label 1, features [5.6 2.9 3.6 1.3]\n",
            "Example 65: label 1, features [6.7 3.1 4.4 1.4]\n",
            "Example 66: label 1, features [5.6 3.  4.5 1.5]\n",
            "Example 67: label 1, features [5.8 2.7 4.1 1. ]\n",
            "Example 68: label 1, features [6.2 2.2 4.5 1.5]\n",
            "Example 69: label 1, features [5.6 2.5 3.9 1.1]\n",
            "Example 70: label 1, features [5.9 3.2 4.8 1.8]\n",
            "Example 71: label 1, features [6.1 2.8 4.  1.3]\n",
            "Example 72: label 1, features [6.3 2.5 4.9 1.5]\n",
            "Example 73: label 1, features [6.1 2.8 4.7 1.2]\n",
            "Example 74: label 1, features [6.4 2.9 4.3 1.3]\n",
            "Example 75: label 1, features [6.6 3.  4.4 1.4]\n",
            "Example 76: label 1, features [6.8 2.8 4.8 1.4]\n",
            "Example 77: label 1, features [6.7 3.  5.  1.7]\n",
            "Example 78: label 1, features [6.  2.9 4.5 1.5]\n",
            "Example 79: label 1, features [5.7 2.6 3.5 1. ]\n",
            "Example 80: label 1, features [5.5 2.4 3.8 1.1]\n",
            "Example 81: label 1, features [5.5 2.4 3.7 1. ]\n",
            "Example 82: label 1, features [5.8 2.7 3.9 1.2]\n",
            "Example 83: label 1, features [6.  2.7 5.1 1.6]\n",
            "Example 84: label 1, features [5.4 3.  4.5 1.5]\n",
            "Example 85: label 1, features [6.  3.4 4.5 1.6]\n",
            "Example 86: label 1, features [6.7 3.1 4.7 1.5]\n",
            "Example 87: label 1, features [6.3 2.3 4.4 1.3]\n",
            "Example 88: label 1, features [5.6 3.  4.1 1.3]\n",
            "Example 89: label 1, features [5.5 2.5 4.  1.3]\n",
            "Example 90: label 1, features [5.5 2.6 4.4 1.2]\n",
            "Example 91: label 1, features [6.1 3.  4.6 1.4]\n",
            "Example 92: label 1, features [5.8 2.6 4.  1.2]\n",
            "Example 93: label 1, features [5.  2.3 3.3 1. ]\n",
            "Example 94: label 1, features [5.6 2.7 4.2 1.3]\n",
            "Example 95: label 1, features [5.7 3.  4.2 1.2]\n",
            "Example 96: label 1, features [5.7 2.9 4.2 1.3]\n",
            "Example 97: label 1, features [6.2 2.9 4.3 1.3]\n",
            "Example 98: label 1, features [5.1 2.5 3.  1.1]\n",
            "Example 99: label 1, features [5.7 2.8 4.1 1.3]\n",
            "Example 100: label 2, features [6.3 3.3 6.  2.5]\n",
            "Example 101: label 2, features [5.8 2.7 5.1 1.9]\n",
            "Example 102: label 2, features [7.1 3.  5.9 2.1]\n",
            "Example 103: label 2, features [6.3 2.9 5.6 1.8]\n",
            "Example 104: label 2, features [6.5 3.  5.8 2.2]\n",
            "Example 105: label 2, features [7.6 3.  6.6 2.1]\n",
            "Example 106: label 2, features [4.9 2.5 4.5 1.7]\n",
            "Example 107: label 2, features [7.3 2.9 6.3 1.8]\n",
            "Example 108: label 2, features [6.7 2.5 5.8 1.8]\n",
            "Example 109: label 2, features [7.2 3.6 6.1 2.5]\n",
            "Example 110: label 2, features [6.5 3.2 5.1 2. ]\n",
            "Example 111: label 2, features [6.4 2.7 5.3 1.9]\n",
            "Example 112: label 2, features [6.8 3.  5.5 2.1]\n",
            "Example 113: label 2, features [5.7 2.5 5.  2. ]\n",
            "Example 114: label 2, features [5.8 2.8 5.1 2.4]\n",
            "Example 115: label 2, features [6.4 3.2 5.3 2.3]\n",
            "Example 116: label 2, features [6.5 3.  5.5 1.8]\n",
            "Example 117: label 2, features [7.7 3.8 6.7 2.2]\n",
            "Example 118: label 2, features [7.7 2.6 6.9 2.3]\n",
            "Example 119: label 2, features [6.  2.2 5.  1.5]\n",
            "Example 120: label 2, features [6.9 3.2 5.7 2.3]\n",
            "Example 121: label 2, features [5.6 2.8 4.9 2. ]\n",
            "Example 122: label 2, features [7.7 2.8 6.7 2. ]\n",
            "Example 123: label 2, features [6.3 2.7 4.9 1.8]\n",
            "Example 124: label 2, features [6.7 3.3 5.7 2.1]\n",
            "Example 125: label 2, features [7.2 3.2 6.  1.8]\n",
            "Example 126: label 2, features [6.2 2.8 4.8 1.8]\n",
            "Example 127: label 2, features [6.1 3.  4.9 1.8]\n",
            "Example 128: label 2, features [6.4 2.8 5.6 2.1]\n",
            "Example 129: label 2, features [7.2 3.  5.8 1.6]\n",
            "Example 130: label 2, features [7.4 2.8 6.1 1.9]\n",
            "Example 131: label 2, features [7.9 3.8 6.4 2. ]\n",
            "Example 132: label 2, features [6.4 2.8 5.6 2.2]\n",
            "Example 133: label 2, features [6.3 2.8 5.1 1.5]\n",
            "Example 134: label 2, features [6.1 2.6 5.6 1.4]\n",
            "Example 135: label 2, features [7.7 3.  6.1 2.3]\n",
            "Example 136: label 2, features [6.3 3.4 5.6 2.4]\n",
            "Example 137: label 2, features [6.4 3.1 5.5 1.8]\n",
            "Example 138: label 2, features [6.  3.  4.8 1.8]\n",
            "Example 139: label 2, features [6.9 3.1 5.4 2.1]\n",
            "Example 140: label 2, features [6.7 3.1 5.6 2.4]\n",
            "Example 141: label 2, features [6.9 3.1 5.1 2.3]\n",
            "Example 142: label 2, features [5.8 2.7 5.1 1.9]\n",
            "Example 143: label 2, features [6.8 3.2 5.9 2.3]\n",
            "Example 144: label 2, features [6.7 3.3 5.7 2.5]\n",
            "Example 145: label 2, features [6.7 3.  5.2 2.3]\n",
            "Example 146: label 2, features [6.3 2.5 5.  1.9]\n",
            "Example 147: label 2, features [6.5 3.  5.2 2. ]\n",
            "Example 148: label 2, features [6.2 3.4 5.4 2.3]\n",
            "Example 149: label 2, features [5.9 3.  5.1 1.8]\n"
          ]
        }
      ]
    },
    {
      "cell_type": "code",
      "source": [
        "import numpy as np\n",
        "from sklearn.datasets import load_iris\n",
        "from sklearn import tree\n",
        "\n",
        "iris = load_iris()\n",
        "test = [0,50,100]\n",
        "# training data\n",
        "train_data = np.delete(iris.data, test, axis=0)\n",
        "\n",
        "# 세 개의 데이터들을 데이터 변수에서 제거\n",
        "train_target = np.delete(iris.target, test)\n",
        "\n",
        "# 세 개의 데이터들을 타겟 변수에서 제거\n",
        "test_data = iris.data[test]\n",
        "test_target = iris.target[test]\n",
        "\n",
        "#결정트리 생성\n",
        "clf = tree.DecisionTreeClassifier()\n",
        "clf.fit(train_data, train_target)\n",
        "#출력\n",
        "print(test_target)\n",
        "print(clf.predict(test_data))"
      ],
      "metadata": {
        "colab": {
          "base_uri": "https://localhost:8080/"
        },
        "id": "HR0Mvm-SRXMl",
        "outputId": "fe70b7c4-e9d2-4c7a-d8b9-8b3a483bf701"
      },
      "execution_count": 16,
      "outputs": [
        {
          "output_type": "stream",
          "name": "stdout",
          "text": [
            "[0 1 2]\n",
            "[0 1 2]\n"
          ]
        }
      ]
    },
    {
      "cell_type": "code",
      "source": [
        "a = np.array([[1,2], [3,4]])\n",
        "print(a.flatten('F')) #'C', 'F'"
      ],
      "metadata": {
        "colab": {
          "base_uri": "https://localhost:8080/"
        },
        "id": "3EteX7-BRjUN",
        "outputId": "bd6b2f28-152f-4453-a807-0f156d3f809e"
      },
      "execution_count": 18,
      "outputs": [
        {
          "output_type": "stream",
          "name": "stdout",
          "text": [
            "[1 3 2 4]\n"
          ]
        }
      ]
    },
    {
      "cell_type": "code",
      "source": [
        "import numpy as np\n",
        "from sklearn.datasets import load_iris\n",
        "from sklearn import tree\n",
        "\n",
        "iris = load_iris()\n",
        "test_idx = [0,50,100]\n",
        "train_data = np.delete(iris.data, test_idx, axis=0)\n",
        "print(train_data.shape)\n",
        "print(train_data)"
      ],
      "metadata": {
        "colab": {
          "base_uri": "https://localhost:8080/"
        },
        "id": "5mc_7RmiRk-W",
        "outputId": "03bde1ba-4ca8-41b3-9166-a9b0bcf99508"
      },
      "execution_count": 19,
      "outputs": [
        {
          "output_type": "stream",
          "name": "stdout",
          "text": [
            "(147, 4)\n",
            "[[4.9 3.  1.4 0.2]\n",
            " [4.7 3.2 1.3 0.2]\n",
            " [4.6 3.1 1.5 0.2]\n",
            " [5.  3.6 1.4 0.2]\n",
            " [5.4 3.9 1.7 0.4]\n",
            " [4.6 3.4 1.4 0.3]\n",
            " [5.  3.4 1.5 0.2]\n",
            " [4.4 2.9 1.4 0.2]\n",
            " [4.9 3.1 1.5 0.1]\n",
            " [5.4 3.7 1.5 0.2]\n",
            " [4.8 3.4 1.6 0.2]\n",
            " [4.8 3.  1.4 0.1]\n",
            " [4.3 3.  1.1 0.1]\n",
            " [5.8 4.  1.2 0.2]\n",
            " [5.7 4.4 1.5 0.4]\n",
            " [5.4 3.9 1.3 0.4]\n",
            " [5.1 3.5 1.4 0.3]\n",
            " [5.7 3.8 1.7 0.3]\n",
            " [5.1 3.8 1.5 0.3]\n",
            " [5.4 3.4 1.7 0.2]\n",
            " [5.1 3.7 1.5 0.4]\n",
            " [4.6 3.6 1.  0.2]\n",
            " [5.1 3.3 1.7 0.5]\n",
            " [4.8 3.4 1.9 0.2]\n",
            " [5.  3.  1.6 0.2]\n",
            " [5.  3.4 1.6 0.4]\n",
            " [5.2 3.5 1.5 0.2]\n",
            " [5.2 3.4 1.4 0.2]\n",
            " [4.7 3.2 1.6 0.2]\n",
            " [4.8 3.1 1.6 0.2]\n",
            " [5.4 3.4 1.5 0.4]\n",
            " [5.2 4.1 1.5 0.1]\n",
            " [5.5 4.2 1.4 0.2]\n",
            " [4.9 3.1 1.5 0.2]\n",
            " [5.  3.2 1.2 0.2]\n",
            " [5.5 3.5 1.3 0.2]\n",
            " [4.9 3.6 1.4 0.1]\n",
            " [4.4 3.  1.3 0.2]\n",
            " [5.1 3.4 1.5 0.2]\n",
            " [5.  3.5 1.3 0.3]\n",
            " [4.5 2.3 1.3 0.3]\n",
            " [4.4 3.2 1.3 0.2]\n",
            " [5.  3.5 1.6 0.6]\n",
            " [5.1 3.8 1.9 0.4]\n",
            " [4.8 3.  1.4 0.3]\n",
            " [5.1 3.8 1.6 0.2]\n",
            " [4.6 3.2 1.4 0.2]\n",
            " [5.3 3.7 1.5 0.2]\n",
            " [5.  3.3 1.4 0.2]\n",
            " [6.4 3.2 4.5 1.5]\n",
            " [6.9 3.1 4.9 1.5]\n",
            " [5.5 2.3 4.  1.3]\n",
            " [6.5 2.8 4.6 1.5]\n",
            " [5.7 2.8 4.5 1.3]\n",
            " [6.3 3.3 4.7 1.6]\n",
            " [4.9 2.4 3.3 1. ]\n",
            " [6.6 2.9 4.6 1.3]\n",
            " [5.2 2.7 3.9 1.4]\n",
            " [5.  2.  3.5 1. ]\n",
            " [5.9 3.  4.2 1.5]\n",
            " [6.  2.2 4.  1. ]\n",
            " [6.1 2.9 4.7 1.4]\n",
            " [5.6 2.9 3.6 1.3]\n",
            " [6.7 3.1 4.4 1.4]\n",
            " [5.6 3.  4.5 1.5]\n",
            " [5.8 2.7 4.1 1. ]\n",
            " [6.2 2.2 4.5 1.5]\n",
            " [5.6 2.5 3.9 1.1]\n",
            " [5.9 3.2 4.8 1.8]\n",
            " [6.1 2.8 4.  1.3]\n",
            " [6.3 2.5 4.9 1.5]\n",
            " [6.1 2.8 4.7 1.2]\n",
            " [6.4 2.9 4.3 1.3]\n",
            " [6.6 3.  4.4 1.4]\n",
            " [6.8 2.8 4.8 1.4]\n",
            " [6.7 3.  5.  1.7]\n",
            " [6.  2.9 4.5 1.5]\n",
            " [5.7 2.6 3.5 1. ]\n",
            " [5.5 2.4 3.8 1.1]\n",
            " [5.5 2.4 3.7 1. ]\n",
            " [5.8 2.7 3.9 1.2]\n",
            " [6.  2.7 5.1 1.6]\n",
            " [5.4 3.  4.5 1.5]\n",
            " [6.  3.4 4.5 1.6]\n",
            " [6.7 3.1 4.7 1.5]\n",
            " [6.3 2.3 4.4 1.3]\n",
            " [5.6 3.  4.1 1.3]\n",
            " [5.5 2.5 4.  1.3]\n",
            " [5.5 2.6 4.4 1.2]\n",
            " [6.1 3.  4.6 1.4]\n",
            " [5.8 2.6 4.  1.2]\n",
            " [5.  2.3 3.3 1. ]\n",
            " [5.6 2.7 4.2 1.3]\n",
            " [5.7 3.  4.2 1.2]\n",
            " [5.7 2.9 4.2 1.3]\n",
            " [6.2 2.9 4.3 1.3]\n",
            " [5.1 2.5 3.  1.1]\n",
            " [5.7 2.8 4.1 1.3]\n",
            " [5.8 2.7 5.1 1.9]\n",
            " [7.1 3.  5.9 2.1]\n",
            " [6.3 2.9 5.6 1.8]\n",
            " [6.5 3.  5.8 2.2]\n",
            " [7.6 3.  6.6 2.1]\n",
            " [4.9 2.5 4.5 1.7]\n",
            " [7.3 2.9 6.3 1.8]\n",
            " [6.7 2.5 5.8 1.8]\n",
            " [7.2 3.6 6.1 2.5]\n",
            " [6.5 3.2 5.1 2. ]\n",
            " [6.4 2.7 5.3 1.9]\n",
            " [6.8 3.  5.5 2.1]\n",
            " [5.7 2.5 5.  2. ]\n",
            " [5.8 2.8 5.1 2.4]\n",
            " [6.4 3.2 5.3 2.3]\n",
            " [6.5 3.  5.5 1.8]\n",
            " [7.7 3.8 6.7 2.2]\n",
            " [7.7 2.6 6.9 2.3]\n",
            " [6.  2.2 5.  1.5]\n",
            " [6.9 3.2 5.7 2.3]\n",
            " [5.6 2.8 4.9 2. ]\n",
            " [7.7 2.8 6.7 2. ]\n",
            " [6.3 2.7 4.9 1.8]\n",
            " [6.7 3.3 5.7 2.1]\n",
            " [7.2 3.2 6.  1.8]\n",
            " [6.2 2.8 4.8 1.8]\n",
            " [6.1 3.  4.9 1.8]\n",
            " [6.4 2.8 5.6 2.1]\n",
            " [7.2 3.  5.8 1.6]\n",
            " [7.4 2.8 6.1 1.9]\n",
            " [7.9 3.8 6.4 2. ]\n",
            " [6.4 2.8 5.6 2.2]\n",
            " [6.3 2.8 5.1 1.5]\n",
            " [6.1 2.6 5.6 1.4]\n",
            " [7.7 3.  6.1 2.3]\n",
            " [6.3 3.4 5.6 2.4]\n",
            " [6.4 3.1 5.5 1.8]\n",
            " [6.  3.  4.8 1.8]\n",
            " [6.9 3.1 5.4 2.1]\n",
            " [6.7 3.1 5.6 2.4]\n",
            " [6.9 3.1 5.1 2.3]\n",
            " [5.8 2.7 5.1 1.9]\n",
            " [6.8 3.2 5.9 2.3]\n",
            " [6.7 3.3 5.7 2.5]\n",
            " [6.7 3.  5.2 2.3]\n",
            " [6.3 2.5 5.  1.9]\n",
            " [6.5 3.  5.2 2. ]\n",
            " [6.2 3.4 5.4 2.3]\n",
            " [5.9 3.  5.1 1.8]]\n"
          ]
        }
      ]
    },
    {
      "cell_type": "code",
      "source": [
        "import numpy as np\n",
        "from sklearn.datasets import load_iris\n",
        "from sklearn import tree\n",
        "\n",
        "iris = load_iris()\n",
        "test_idx = [0,50,100]\n",
        "train_target = np.delete(iris.target, test_idx) # 세 개의 요소들을 타겟 변수에서 제거\n",
        "\n",
        "train_data = np.delete(iris.data, test_idx) # 세 개의 요소들을 데이터 변수에서 제거\n",
        "print(train_data.shape)\n",
        "for i in range(len(train_data)):\n",
        "  print(\"%dth, %s\" % (i, train_data[i]))"
      ],
      "metadata": {
        "colab": {
          "base_uri": "https://localhost:8080/"
        },
        "id": "0gz8B74aR3cj",
        "outputId": "fa544618-bc2f-4cf9-ae3e-9b15778babab"
      },
      "execution_count": 20,
      "outputs": [
        {
          "output_type": "stream",
          "name": "stdout",
          "text": [
            "(597,)\n",
            "0th, 3.5\n",
            "1th, 1.4\n",
            "2th, 0.2\n",
            "3th, 4.9\n",
            "4th, 3.0\n",
            "5th, 1.4\n",
            "6th, 0.2\n",
            "7th, 4.7\n",
            "8th, 3.2\n",
            "9th, 1.3\n",
            "10th, 0.2\n",
            "11th, 4.6\n",
            "12th, 3.1\n",
            "13th, 1.5\n",
            "14th, 0.2\n",
            "15th, 5.0\n",
            "16th, 3.6\n",
            "17th, 1.4\n",
            "18th, 0.2\n",
            "19th, 5.4\n",
            "20th, 3.9\n",
            "21th, 1.7\n",
            "22th, 0.4\n",
            "23th, 4.6\n",
            "24th, 3.4\n",
            "25th, 1.4\n",
            "26th, 0.3\n",
            "27th, 5.0\n",
            "28th, 3.4\n",
            "29th, 1.5\n",
            "30th, 0.2\n",
            "31th, 4.4\n",
            "32th, 2.9\n",
            "33th, 1.4\n",
            "34th, 0.2\n",
            "35th, 4.9\n",
            "36th, 3.1\n",
            "37th, 1.5\n",
            "38th, 0.1\n",
            "39th, 5.4\n",
            "40th, 3.7\n",
            "41th, 1.5\n",
            "42th, 0.2\n",
            "43th, 4.8\n",
            "44th, 3.4\n",
            "45th, 1.6\n",
            "46th, 0.2\n",
            "47th, 4.8\n",
            "48th, 3.0\n",
            "49th, 0.1\n",
            "50th, 4.3\n",
            "51th, 3.0\n",
            "52th, 1.1\n",
            "53th, 0.1\n",
            "54th, 5.8\n",
            "55th, 4.0\n",
            "56th, 1.2\n",
            "57th, 0.2\n",
            "58th, 5.7\n",
            "59th, 4.4\n",
            "60th, 1.5\n",
            "61th, 0.4\n",
            "62th, 5.4\n",
            "63th, 3.9\n",
            "64th, 1.3\n",
            "65th, 0.4\n",
            "66th, 5.1\n",
            "67th, 3.5\n",
            "68th, 1.4\n",
            "69th, 0.3\n",
            "70th, 5.7\n",
            "71th, 3.8\n",
            "72th, 1.7\n",
            "73th, 0.3\n",
            "74th, 5.1\n",
            "75th, 3.8\n",
            "76th, 1.5\n",
            "77th, 0.3\n",
            "78th, 5.4\n",
            "79th, 3.4\n",
            "80th, 1.7\n",
            "81th, 0.2\n",
            "82th, 5.1\n",
            "83th, 3.7\n",
            "84th, 1.5\n",
            "85th, 0.4\n",
            "86th, 4.6\n",
            "87th, 3.6\n",
            "88th, 1.0\n",
            "89th, 0.2\n",
            "90th, 5.1\n",
            "91th, 3.3\n",
            "92th, 1.7\n",
            "93th, 0.5\n",
            "94th, 4.8\n",
            "95th, 3.4\n",
            "96th, 1.9\n",
            "97th, 0.2\n",
            "98th, 3.0\n",
            "99th, 1.6\n",
            "100th, 0.2\n",
            "101th, 5.0\n",
            "102th, 3.4\n",
            "103th, 1.6\n",
            "104th, 0.4\n",
            "105th, 5.2\n",
            "106th, 3.5\n",
            "107th, 1.5\n",
            "108th, 0.2\n",
            "109th, 5.2\n",
            "110th, 3.4\n",
            "111th, 1.4\n",
            "112th, 0.2\n",
            "113th, 4.7\n",
            "114th, 3.2\n",
            "115th, 1.6\n",
            "116th, 0.2\n",
            "117th, 4.8\n",
            "118th, 3.1\n",
            "119th, 1.6\n",
            "120th, 0.2\n",
            "121th, 5.4\n",
            "122th, 3.4\n",
            "123th, 1.5\n",
            "124th, 0.4\n",
            "125th, 5.2\n",
            "126th, 4.1\n",
            "127th, 1.5\n",
            "128th, 0.1\n",
            "129th, 5.5\n",
            "130th, 4.2\n",
            "131th, 1.4\n",
            "132th, 0.2\n",
            "133th, 4.9\n",
            "134th, 3.1\n",
            "135th, 1.5\n",
            "136th, 0.2\n",
            "137th, 5.0\n",
            "138th, 3.2\n",
            "139th, 1.2\n",
            "140th, 0.2\n",
            "141th, 5.5\n",
            "142th, 3.5\n",
            "143th, 1.3\n",
            "144th, 0.2\n",
            "145th, 4.9\n",
            "146th, 3.6\n",
            "147th, 1.4\n",
            "148th, 0.1\n",
            "149th, 4.4\n",
            "150th, 3.0\n",
            "151th, 1.3\n",
            "152th, 0.2\n",
            "153th, 5.1\n",
            "154th, 3.4\n",
            "155th, 1.5\n",
            "156th, 0.2\n",
            "157th, 5.0\n",
            "158th, 3.5\n",
            "159th, 1.3\n",
            "160th, 0.3\n",
            "161th, 4.5\n",
            "162th, 2.3\n",
            "163th, 1.3\n",
            "164th, 0.3\n",
            "165th, 4.4\n",
            "166th, 3.2\n",
            "167th, 1.3\n",
            "168th, 0.2\n",
            "169th, 5.0\n",
            "170th, 3.5\n",
            "171th, 1.6\n",
            "172th, 0.6\n",
            "173th, 5.1\n",
            "174th, 3.8\n",
            "175th, 1.9\n",
            "176th, 0.4\n",
            "177th, 4.8\n",
            "178th, 3.0\n",
            "179th, 1.4\n",
            "180th, 0.3\n",
            "181th, 5.1\n",
            "182th, 3.8\n",
            "183th, 1.6\n",
            "184th, 0.2\n",
            "185th, 4.6\n",
            "186th, 3.2\n",
            "187th, 1.4\n",
            "188th, 0.2\n",
            "189th, 5.3\n",
            "190th, 3.7\n",
            "191th, 1.5\n",
            "192th, 0.2\n",
            "193th, 5.0\n",
            "194th, 3.3\n",
            "195th, 1.4\n",
            "196th, 0.2\n",
            "197th, 7.0\n",
            "198th, 3.2\n",
            "199th, 4.7\n",
            "200th, 1.4\n",
            "201th, 6.4\n",
            "202th, 3.2\n",
            "203th, 4.5\n",
            "204th, 1.5\n",
            "205th, 6.9\n",
            "206th, 3.1\n",
            "207th, 4.9\n",
            "208th, 1.5\n",
            "209th, 5.5\n",
            "210th, 2.3\n",
            "211th, 4.0\n",
            "212th, 1.3\n",
            "213th, 6.5\n",
            "214th, 2.8\n",
            "215th, 4.6\n",
            "216th, 1.5\n",
            "217th, 5.7\n",
            "218th, 2.8\n",
            "219th, 4.5\n",
            "220th, 1.3\n",
            "221th, 6.3\n",
            "222th, 3.3\n",
            "223th, 4.7\n",
            "224th, 1.6\n",
            "225th, 4.9\n",
            "226th, 2.4\n",
            "227th, 3.3\n",
            "228th, 1.0\n",
            "229th, 6.6\n",
            "230th, 2.9\n",
            "231th, 4.6\n",
            "232th, 1.3\n",
            "233th, 5.2\n",
            "234th, 2.7\n",
            "235th, 3.9\n",
            "236th, 1.4\n",
            "237th, 5.0\n",
            "238th, 2.0\n",
            "239th, 3.5\n",
            "240th, 1.0\n",
            "241th, 5.9\n",
            "242th, 3.0\n",
            "243th, 4.2\n",
            "244th, 1.5\n",
            "245th, 6.0\n",
            "246th, 2.2\n",
            "247th, 4.0\n",
            "248th, 1.0\n",
            "249th, 6.1\n",
            "250th, 2.9\n",
            "251th, 4.7\n",
            "252th, 1.4\n",
            "253th, 5.6\n",
            "254th, 2.9\n",
            "255th, 3.6\n",
            "256th, 1.3\n",
            "257th, 6.7\n",
            "258th, 3.1\n",
            "259th, 4.4\n",
            "260th, 1.4\n",
            "261th, 5.6\n",
            "262th, 3.0\n",
            "263th, 4.5\n",
            "264th, 1.5\n",
            "265th, 5.8\n",
            "266th, 2.7\n",
            "267th, 4.1\n",
            "268th, 1.0\n",
            "269th, 6.2\n",
            "270th, 2.2\n",
            "271th, 4.5\n",
            "272th, 1.5\n",
            "273th, 5.6\n",
            "274th, 2.5\n",
            "275th, 3.9\n",
            "276th, 1.1\n",
            "277th, 5.9\n",
            "278th, 3.2\n",
            "279th, 4.8\n",
            "280th, 1.8\n",
            "281th, 6.1\n",
            "282th, 2.8\n",
            "283th, 4.0\n",
            "284th, 1.3\n",
            "285th, 6.3\n",
            "286th, 2.5\n",
            "287th, 4.9\n",
            "288th, 1.5\n",
            "289th, 6.1\n",
            "290th, 2.8\n",
            "291th, 4.7\n",
            "292th, 1.2\n",
            "293th, 6.4\n",
            "294th, 2.9\n",
            "295th, 4.3\n",
            "296th, 1.3\n",
            "297th, 6.6\n",
            "298th, 3.0\n",
            "299th, 4.4\n",
            "300th, 1.4\n",
            "301th, 6.8\n",
            "302th, 2.8\n",
            "303th, 4.8\n",
            "304th, 1.4\n",
            "305th, 6.7\n",
            "306th, 3.0\n",
            "307th, 5.0\n",
            "308th, 1.7\n",
            "309th, 6.0\n",
            "310th, 2.9\n",
            "311th, 4.5\n",
            "312th, 1.5\n",
            "313th, 5.7\n",
            "314th, 2.6\n",
            "315th, 3.5\n",
            "316th, 1.0\n",
            "317th, 5.5\n",
            "318th, 2.4\n",
            "319th, 3.8\n",
            "320th, 1.1\n",
            "321th, 5.5\n",
            "322th, 2.4\n",
            "323th, 3.7\n",
            "324th, 1.0\n",
            "325th, 5.8\n",
            "326th, 2.7\n",
            "327th, 3.9\n",
            "328th, 1.2\n",
            "329th, 6.0\n",
            "330th, 2.7\n",
            "331th, 5.1\n",
            "332th, 1.6\n",
            "333th, 5.4\n",
            "334th, 3.0\n",
            "335th, 4.5\n",
            "336th, 1.5\n",
            "337th, 6.0\n",
            "338th, 3.4\n",
            "339th, 4.5\n",
            "340th, 1.6\n",
            "341th, 6.7\n",
            "342th, 3.1\n",
            "343th, 4.7\n",
            "344th, 1.5\n",
            "345th, 6.3\n",
            "346th, 2.3\n",
            "347th, 4.4\n",
            "348th, 1.3\n",
            "349th, 5.6\n",
            "350th, 3.0\n",
            "351th, 4.1\n",
            "352th, 1.3\n",
            "353th, 5.5\n",
            "354th, 2.5\n",
            "355th, 4.0\n",
            "356th, 1.3\n",
            "357th, 5.5\n",
            "358th, 2.6\n",
            "359th, 4.4\n",
            "360th, 1.2\n",
            "361th, 6.1\n",
            "362th, 3.0\n",
            "363th, 4.6\n",
            "364th, 1.4\n",
            "365th, 5.8\n",
            "366th, 2.6\n",
            "367th, 4.0\n",
            "368th, 1.2\n",
            "369th, 5.0\n",
            "370th, 2.3\n",
            "371th, 3.3\n",
            "372th, 1.0\n",
            "373th, 5.6\n",
            "374th, 2.7\n",
            "375th, 4.2\n",
            "376th, 1.3\n",
            "377th, 5.7\n",
            "378th, 3.0\n",
            "379th, 4.2\n",
            "380th, 1.2\n",
            "381th, 5.7\n",
            "382th, 2.9\n",
            "383th, 4.2\n",
            "384th, 1.3\n",
            "385th, 6.2\n",
            "386th, 2.9\n",
            "387th, 4.3\n",
            "388th, 1.3\n",
            "389th, 5.1\n",
            "390th, 2.5\n",
            "391th, 3.0\n",
            "392th, 1.1\n",
            "393th, 5.7\n",
            "394th, 2.8\n",
            "395th, 4.1\n",
            "396th, 1.3\n",
            "397th, 6.3\n",
            "398th, 3.3\n",
            "399th, 6.0\n",
            "400th, 2.5\n",
            "401th, 5.8\n",
            "402th, 2.7\n",
            "403th, 5.1\n",
            "404th, 1.9\n",
            "405th, 7.1\n",
            "406th, 3.0\n",
            "407th, 5.9\n",
            "408th, 2.1\n",
            "409th, 6.3\n",
            "410th, 2.9\n",
            "411th, 5.6\n",
            "412th, 1.8\n",
            "413th, 6.5\n",
            "414th, 3.0\n",
            "415th, 5.8\n",
            "416th, 2.2\n",
            "417th, 7.6\n",
            "418th, 3.0\n",
            "419th, 6.6\n",
            "420th, 2.1\n",
            "421th, 4.9\n",
            "422th, 2.5\n",
            "423th, 4.5\n",
            "424th, 1.7\n",
            "425th, 7.3\n",
            "426th, 2.9\n",
            "427th, 6.3\n",
            "428th, 1.8\n",
            "429th, 6.7\n",
            "430th, 2.5\n",
            "431th, 5.8\n",
            "432th, 1.8\n",
            "433th, 7.2\n",
            "434th, 3.6\n",
            "435th, 6.1\n",
            "436th, 2.5\n",
            "437th, 6.5\n",
            "438th, 3.2\n",
            "439th, 5.1\n",
            "440th, 2.0\n",
            "441th, 6.4\n",
            "442th, 2.7\n",
            "443th, 5.3\n",
            "444th, 1.9\n",
            "445th, 6.8\n",
            "446th, 3.0\n",
            "447th, 5.5\n",
            "448th, 2.1\n",
            "449th, 5.7\n",
            "450th, 2.5\n",
            "451th, 5.0\n",
            "452th, 2.0\n",
            "453th, 5.8\n",
            "454th, 2.8\n",
            "455th, 5.1\n",
            "456th, 2.4\n",
            "457th, 6.4\n",
            "458th, 3.2\n",
            "459th, 5.3\n",
            "460th, 2.3\n",
            "461th, 6.5\n",
            "462th, 3.0\n",
            "463th, 5.5\n",
            "464th, 1.8\n",
            "465th, 7.7\n",
            "466th, 3.8\n",
            "467th, 6.7\n",
            "468th, 2.2\n",
            "469th, 7.7\n",
            "470th, 2.6\n",
            "471th, 6.9\n",
            "472th, 2.3\n",
            "473th, 6.0\n",
            "474th, 2.2\n",
            "475th, 5.0\n",
            "476th, 1.5\n",
            "477th, 6.9\n",
            "478th, 3.2\n",
            "479th, 5.7\n",
            "480th, 2.3\n",
            "481th, 5.6\n",
            "482th, 2.8\n",
            "483th, 4.9\n",
            "484th, 2.0\n",
            "485th, 7.7\n",
            "486th, 2.8\n",
            "487th, 6.7\n",
            "488th, 2.0\n",
            "489th, 6.3\n",
            "490th, 2.7\n",
            "491th, 4.9\n",
            "492th, 1.8\n",
            "493th, 6.7\n",
            "494th, 3.3\n",
            "495th, 5.7\n",
            "496th, 2.1\n",
            "497th, 7.2\n",
            "498th, 3.2\n",
            "499th, 6.0\n",
            "500th, 1.8\n",
            "501th, 6.2\n",
            "502th, 2.8\n",
            "503th, 4.8\n",
            "504th, 1.8\n",
            "505th, 6.1\n",
            "506th, 3.0\n",
            "507th, 4.9\n",
            "508th, 1.8\n",
            "509th, 6.4\n",
            "510th, 2.8\n",
            "511th, 5.6\n",
            "512th, 2.1\n",
            "513th, 7.2\n",
            "514th, 3.0\n",
            "515th, 5.8\n",
            "516th, 1.6\n",
            "517th, 7.4\n",
            "518th, 2.8\n",
            "519th, 6.1\n",
            "520th, 1.9\n",
            "521th, 7.9\n",
            "522th, 3.8\n",
            "523th, 6.4\n",
            "524th, 2.0\n",
            "525th, 6.4\n",
            "526th, 2.8\n",
            "527th, 5.6\n",
            "528th, 2.2\n",
            "529th, 6.3\n",
            "530th, 2.8\n",
            "531th, 5.1\n",
            "532th, 1.5\n",
            "533th, 6.1\n",
            "534th, 2.6\n",
            "535th, 5.6\n",
            "536th, 1.4\n",
            "537th, 7.7\n",
            "538th, 3.0\n",
            "539th, 6.1\n",
            "540th, 2.3\n",
            "541th, 6.3\n",
            "542th, 3.4\n",
            "543th, 5.6\n",
            "544th, 2.4\n",
            "545th, 6.4\n",
            "546th, 3.1\n",
            "547th, 5.5\n",
            "548th, 1.8\n",
            "549th, 6.0\n",
            "550th, 3.0\n",
            "551th, 4.8\n",
            "552th, 1.8\n",
            "553th, 6.9\n",
            "554th, 3.1\n",
            "555th, 5.4\n",
            "556th, 2.1\n",
            "557th, 6.7\n",
            "558th, 3.1\n",
            "559th, 5.6\n",
            "560th, 2.4\n",
            "561th, 6.9\n",
            "562th, 3.1\n",
            "563th, 5.1\n",
            "564th, 2.3\n",
            "565th, 5.8\n",
            "566th, 2.7\n",
            "567th, 5.1\n",
            "568th, 1.9\n",
            "569th, 6.8\n",
            "570th, 3.2\n",
            "571th, 5.9\n",
            "572th, 2.3\n",
            "573th, 6.7\n",
            "574th, 3.3\n",
            "575th, 5.7\n",
            "576th, 2.5\n",
            "577th, 6.7\n",
            "578th, 3.0\n",
            "579th, 5.2\n",
            "580th, 2.3\n",
            "581th, 6.3\n",
            "582th, 2.5\n",
            "583th, 5.0\n",
            "584th, 1.9\n",
            "585th, 6.5\n",
            "586th, 3.0\n",
            "587th, 5.2\n",
            "588th, 2.0\n",
            "589th, 6.2\n",
            "590th, 3.4\n",
            "591th, 5.4\n",
            "592th, 2.3\n",
            "593th, 5.9\n",
            "594th, 3.0\n",
            "595th, 5.1\n",
            "596th, 1.8\n"
          ]
        }
      ]
    },
    {
      "cell_type": "code",
      "source": [
        "from sklearn.datasets import load_iris\n",
        "import matplotlib.pyplot as plt\n",
        "\n",
        "iris = load_iris()\n",
        "sepal = iris.data[:, 0:2]\n",
        "kind = iris.target\n",
        "\n",
        "plt.xlabel('Sepal Length')\n",
        "plt.ylabel('Sepal Width')\n",
        "\n",
        "plt.plot(sepal[kind==0][:,0], sepal[kind==0][:,1], \"ro\", label='Setosa')\n",
        "plt.plot(sepal[kind==1][:,0], sepal[kind==1][:,1], \"bo\", label='Versicolor')\n",
        "plt.plot(sepal[kind==2][:,0], sepal[kind==2][:,1],\"yo\", label='Virginica')\n",
        "plt.legend()"
      ],
      "metadata": {
        "colab": {
          "base_uri": "https://localhost:8080/",
          "height": 471
        },
        "id": "klbHZ56MSDq_",
        "outputId": "9438fbc5-7f6d-4521-e1cb-106705e57897"
      },
      "execution_count": 21,
      "outputs": [
        {
          "output_type": "execute_result",
          "data": {
            "text/plain": [
              "<matplotlib.legend.Legend at 0x7b1268b4e740>"
            ]
          },
          "metadata": {},
          "execution_count": 21
        },
        {
          "output_type": "display_data",
          "data": {
            "text/plain": [
              "<Figure size 640x480 with 1 Axes>"
            ],
            "image/png": "[encoded data removed]"
          },
          "metadata": {}
        }
      ]
    },
    {
      "cell_type": "code",
      "source": [
        "import graphviz\n",
        "\n",
        "dot_data = tree.export_graphviz(clf, out_file=None)\n",
        "graph = graphviz.Source(dot_data)\n",
        "graph.render(\"iris\")\n",
        "dot_data = tree.export_graphviz (clf, out_file=None, feature_names=iris.feature_names, class_names=iris.target_names, filled=True, rounded=True, special_characters=True)\n",
        "graph = graphviz.Source(dot_data)\n",
        "graph\n",
        ""
      ],
      "metadata": {
        "colab": {
          "base_uri": "https://localhost:8080/",
          "height": 915
        },
        "id": "RUp1us57SXxP",
        "outputId": "4847f6dd-20b8-4cc8-acec-d67fe810caf0"
      },
      "execution_count": 22,
      "outputs": [
        {
          "output_type": "execute_result",
          "data": {
            "image/svg+xml": "<?xml version=\"1.0\" encoding=\"UTF-8\" standalone=\"no\"?>\n<!DOCTYPE svg PUBLIC \"-//W3C//DTD SVG 1.1//EN\"\n \"http://www.w3.org/Graphics/SVG/1.1/DTD/svg11.dtd\">\n<!-- Generated by graphviz version 2.43.0 (0)\n -->\n<!-- Title: Tree Pages: 1 -->\n<svg width=\"863pt\" height=\"671pt\"\n viewBox=\"0.00 0.00 863.00 671.00\" xmlns=\"http://www.w3.org/2000/svg\" xmlns:xlink=\"http://www.w3.org/1999/xlink\">\n<g id=\"graph0\" class=\"graph\" transform=\"scale(1 1) rotate(0) translate(4 667)\">\n<title>Tree</title>\n<polygon fill=\"white\" stroke=\"transparent\" points=\"-4,4 -4,-667 859,-667 859,4 -4,4\"/>\n<!-- 0 -->\n<g id=\"node1\" class=\"node\">\n<title>0</title>\n<path fill=\"#ffffff\" stroke=\"black\" d=\"M510.5,-663C510.5,-663 388.5,-663 388.5,-663 382.5,-663 376.5,-657 376.5,-651 376.5,-651 376.5,-592 376.5,-592 376.5,-586 382.5,-580 388.5,-580 388.5,-580 510.5,-580 510.5,-580 516.5,-580 522.5,-586 522.5,-592 522.5,-592 522.5,-651 522.5,-651 522.5,-657 516.5,-663 510.5,-663\"/>\n<text text-anchor=\"start\" x=\"384.5\" y=\"-647.8\" font-family=\"Helvetica,sans-Serif\" font-size=\"14.00\">petal width (cm) ≤ 0.8</text>\n<text text-anchor=\"start\" x=\"414\" y=\"-632.8\" font-family=\"Helvetica,sans-Serif\" font-size=\"14.00\">gini = 0.667</text>\n<text text-anchor=\"start\" x=\"404.5\" y=\"-617.8\" font-family=\"Helvetica,sans-Serif\" font-size=\"14.00\">samples = 147</text>\n<text text-anchor=\"start\" x=\"391.5\" y=\"-602.8\" font-family=\"Helvetica,sans-Serif\" font-size=\"14.00\">value = [49, 49, 49]</text>\n<text text-anchor=\"start\" x=\"406\" y=\"-587.8\" font-family=\"Helvetica,sans-Serif\" font-size=\"14.00\">class = setosa</text>\n</g>\n<!-- 1 -->\n<g id=\"node2\" class=\"node\">\n<title>1</title>\n<path fill=\"#e58139\" stroke=\"black\" d=\"M419,-536.5C419,-536.5 326,-536.5 326,-536.5 320,-536.5 314,-530.5 314,-524.5 314,-524.5 314,-480.5 314,-480.5 314,-474.5 320,-468.5 326,-468.5 326,-468.5 419,-468.5 419,-468.5 425,-468.5 431,-474.5 431,-480.5 431,-480.5 431,-524.5 431,-524.5 431,-530.5 425,-536.5 419,-536.5\"/>\n<text text-anchor=\"start\" x=\"344.5\" y=\"-521.3\" font-family=\"Helvetica,sans-Serif\" font-size=\"14.00\">gini = 0.0</text>\n<text text-anchor=\"start\" x=\"331.5\" y=\"-506.3\" font-family=\"Helvetica,sans-Serif\" font-size=\"14.00\">samples = 49</text>\n<text text-anchor=\"start\" x=\"322\" y=\"-491.3\" font-family=\"Helvetica,sans-Serif\" font-size=\"14.00\">value = [49, 0, 0]</text>\n<text text-anchor=\"start\" x=\"329\" y=\"-476.3\" font-family=\"Helvetica,sans-Serif\" font-size=\"14.00\">class = setosa</text>\n</g>\n<!-- 0&#45;&gt;1 -->\n<g id=\"edge1\" class=\"edge\">\n<title>0&#45;&gt;1</title>\n<path fill=\"none\" stroke=\"black\" d=\"M422.79,-579.91C415.38,-568.65 407.33,-556.42 399.88,-545.11\"/>\n<polygon fill=\"black\" stroke=\"black\" points=\"402.75,-543.1 394.33,-536.67 396.9,-546.94 402.75,-543.1\"/>\n<text text-anchor=\"middle\" x=\"389.28\" y=\"-557.45\" font-family=\"Helvetica,sans-Serif\" font-size=\"14.00\">True</text>\n</g>\n<!-- 2 -->\n<g id=\"node3\" class=\"node\">\n<title>2</title>\n<path fill=\"#ffffff\" stroke=\"black\" d=\"M591.5,-544C591.5,-544 461.5,-544 461.5,-544 455.5,-544 449.5,-538 449.5,-532 449.5,-532 449.5,-473 449.5,-473 449.5,-467 455.5,-461 461.5,-461 461.5,-461 591.5,-461 591.5,-461 597.5,-461 603.5,-467 603.5,-473 603.5,-473 603.5,-532 603.5,-532 603.5,-538 597.5,-544 591.5,-544\"/>\n<text text-anchor=\"start\" x=\"457.5\" y=\"-528.8\" font-family=\"Helvetica,sans-Serif\" font-size=\"14.00\">petal width (cm) ≤ 1.75</text>\n<text text-anchor=\"start\" x=\"498.5\" y=\"-513.8\" font-family=\"Helvetica,sans-Serif\" font-size=\"14.00\">gini = 0.5</text>\n<text text-anchor=\"start\" x=\"485.5\" y=\"-498.8\" font-family=\"Helvetica,sans-Serif\" font-size=\"14.00\">samples = 98</text>\n<text text-anchor=\"start\" x=\"472\" y=\"-483.8\" font-family=\"Helvetica,sans-Serif\" font-size=\"14.00\">value = [0, 49, 49]</text>\n<text text-anchor=\"start\" x=\"474\" y=\"-468.8\" font-family=\"Helvetica,sans-Serif\" font-size=\"14.00\">class = versicolor</text>\n</g>\n<!-- 0&#45;&gt;2 -->\n<g id=\"edge2\" class=\"edge\">\n<title>0&#45;&gt;2</title>\n<path fill=\"none\" stroke=\"black\" d=\"M476.21,-579.91C482.01,-571.1 488.2,-561.7 494.18,-552.61\"/>\n<polygon fill=\"black\" stroke=\"black\" points=\"497.26,-554.3 499.83,-544.02 491.41,-550.45 497.26,-554.3\"/>\n<text text-anchor=\"middle\" x=\"504.88\" y=\"-564.81\" font-family=\"Helvetica,sans-Serif\" font-size=\"14.00\">False</text>\n</g>\n<!-- 3 -->\n<g id=\"node4\" class=\"node\">\n<title>3</title>\n<path fill=\"#4ee88e\" stroke=\"black\" d=\"M482,-425C482,-425 347,-425 347,-425 341,-425 335,-419 335,-413 335,-413 335,-354 335,-354 335,-348 341,-342 347,-342 347,-342 482,-342 482,-342 488,-342 494,-348 494,-354 494,-354 494,-413 494,-413 494,-419 488,-425 482,-425\"/>\n<text text-anchor=\"start\" x=\"343\" y=\"-409.8\" font-family=\"Helvetica,sans-Serif\" font-size=\"14.00\">petal length (cm) ≤ 4.95</text>\n<text text-anchor=\"start\" x=\"379\" y=\"-394.8\" font-family=\"Helvetica,sans-Serif\" font-size=\"14.00\">gini = 0.171</text>\n<text text-anchor=\"start\" x=\"373.5\" y=\"-379.8\" font-family=\"Helvetica,sans-Serif\" font-size=\"14.00\">samples = 53</text>\n<text text-anchor=\"start\" x=\"364\" y=\"-364.8\" font-family=\"Helvetica,sans-Serif\" font-size=\"14.00\">value = [0, 48, 5]</text>\n<text text-anchor=\"start\" x=\"362\" y=\"-349.8\" font-family=\"Helvetica,sans-Serif\" font-size=\"14.00\">class = versicolor</text>\n</g>\n<!-- 2&#45;&gt;3 -->\n<g id=\"edge3\" class=\"edge\">\n<title>2&#45;&gt;3</title>\n<path fill=\"none\" stroke=\"black\" d=\"M487.64,-460.91C478.87,-451.74 469.47,-441.93 460.44,-432.49\"/>\n<polygon fill=\"black\" stroke=\"black\" points=\"462.73,-429.82 453.29,-425.02 457.68,-434.66 462.73,-429.82\"/>\n</g>\n<!-- 12 -->\n<g id=\"node13\" class=\"node\">\n<title>12</title>\n<path fill=\"#843de6\" stroke=\"black\" d=\"M706,-425C706,-425 571,-425 571,-425 565,-425 559,-419 559,-413 559,-413 559,-354 559,-354 559,-348 565,-342 571,-342 571,-342 706,-342 706,-342 712,-342 718,-348 718,-354 718,-354 718,-413 718,-413 718,-419 712,-425 706,-425\"/>\n<text text-anchor=\"start\" x=\"567\" y=\"-409.8\" font-family=\"Helvetica,sans-Serif\" font-size=\"14.00\">petal length (cm) ≤ 4.85</text>\n<text text-anchor=\"start\" x=\"603\" y=\"-394.8\" font-family=\"Helvetica,sans-Serif\" font-size=\"14.00\">gini = 0.043</text>\n<text text-anchor=\"start\" x=\"597.5\" y=\"-379.8\" font-family=\"Helvetica,sans-Serif\" font-size=\"14.00\">samples = 45</text>\n<text text-anchor=\"start\" x=\"588\" y=\"-364.8\" font-family=\"Helvetica,sans-Serif\" font-size=\"14.00\">value = [0, 1, 44]</text>\n<text text-anchor=\"start\" x=\"590\" y=\"-349.8\" font-family=\"Helvetica,sans-Serif\" font-size=\"14.00\">class = virginica</text>\n</g>\n<!-- 2&#45;&gt;12 -->\n<g id=\"edge12\" class=\"edge\">\n<title>2&#45;&gt;12</title>\n<path fill=\"none\" stroke=\"black\" d=\"M565.36,-460.91C574.13,-451.74 583.53,-441.93 592.56,-432.49\"/>\n<polygon fill=\"black\" stroke=\"black\" points=\"595.32,-434.66 599.71,-425.02 590.27,-429.82 595.32,-434.66\"/>\n</g>\n<!-- 4 -->\n<g id=\"node5\" class=\"node\">\n<title>4</title>\n<path fill=\"#3de684\" stroke=\"black\" d=\"M260.5,-306C260.5,-306 130.5,-306 130.5,-306 124.5,-306 118.5,-300 118.5,-294 118.5,-294 118.5,-235 118.5,-235 118.5,-229 124.5,-223 130.5,-223 130.5,-223 260.5,-223 260.5,-223 266.5,-223 272.5,-229 272.5,-235 272.5,-235 272.5,-294 272.5,-294 272.5,-300 266.5,-306 260.5,-306\"/>\n<text text-anchor=\"start\" x=\"126.5\" y=\"-290.8\" font-family=\"Helvetica,sans-Serif\" font-size=\"14.00\">petal width (cm) ≤ 1.65</text>\n<text text-anchor=\"start\" x=\"160\" y=\"-275.8\" font-family=\"Helvetica,sans-Serif\" font-size=\"14.00\">gini = 0.042</text>\n<text text-anchor=\"start\" x=\"154.5\" y=\"-260.8\" font-family=\"Helvetica,sans-Serif\" font-size=\"14.00\">samples = 47</text>\n<text text-anchor=\"start\" x=\"145\" y=\"-245.8\" font-family=\"Helvetica,sans-Serif\" font-size=\"14.00\">value = [0, 46, 1]</text>\n<text text-anchor=\"start\" x=\"143\" y=\"-230.8\" font-family=\"Helvetica,sans-Serif\" font-size=\"14.00\">class = versicolor</text>\n</g>\n<!-- 3&#45;&gt;4 -->\n<g id=\"edge4\" class=\"edge\">\n<title>3&#45;&gt;4</title>\n<path fill=\"none\" stroke=\"black\" d=\"M338.52,-341.91C319.75,-331.88 299.52,-321.07 280.36,-310.84\"/>\n<polygon fill=\"black\" stroke=\"black\" points=\"281.82,-307.65 271.35,-306.02 278.52,-313.82 281.82,-307.65\"/>\n</g>\n<!-- 7 -->\n<g id=\"node8\" class=\"node\">\n<title>7</title>\n<path fill=\"#c09cf2\" stroke=\"black\" d=\"M479.5,-306C479.5,-306 349.5,-306 349.5,-306 343.5,-306 337.5,-300 337.5,-294 337.5,-294 337.5,-235 337.5,-235 337.5,-229 343.5,-223 349.5,-223 349.5,-223 479.5,-223 479.5,-223 485.5,-223 491.5,-229 491.5,-235 491.5,-235 491.5,-294 491.5,-294 491.5,-300 485.5,-306 479.5,-306\"/>\n<text text-anchor=\"start\" x=\"345.5\" y=\"-290.8\" font-family=\"Helvetica,sans-Serif\" font-size=\"14.00\">petal width (cm) ≤ 1.55</text>\n<text text-anchor=\"start\" x=\"379\" y=\"-275.8\" font-family=\"Helvetica,sans-Serif\" font-size=\"14.00\">gini = 0.444</text>\n<text text-anchor=\"start\" x=\"377\" y=\"-260.8\" font-family=\"Helvetica,sans-Serif\" font-size=\"14.00\">samples = 6</text>\n<text text-anchor=\"start\" x=\"367.5\" y=\"-245.8\" font-family=\"Helvetica,sans-Serif\" font-size=\"14.00\">value = [0, 2, 4]</text>\n<text text-anchor=\"start\" x=\"366\" y=\"-230.8\" font-family=\"Helvetica,sans-Serif\" font-size=\"14.00\">class = virginica</text>\n</g>\n<!-- 3&#45;&gt;7 -->\n<g id=\"edge7\" class=\"edge\">\n<title>3&#45;&gt;7</title>\n<path fill=\"none\" stroke=\"black\" d=\"M414.5,-341.91C414.5,-333.65 414.5,-324.86 414.5,-316.3\"/>\n<polygon fill=\"black\" stroke=\"black\" points=\"418,-316.02 414.5,-306.02 411,-316.02 418,-316.02\"/>\n</g>\n<!-- 5 -->\n<g id=\"node6\" class=\"node\">\n<title>5</title>\n<path fill=\"#39e581\" stroke=\"black\" d=\"M109,-179.5C109,-179.5 12,-179.5 12,-179.5 6,-179.5 0,-173.5 0,-167.5 0,-167.5 0,-123.5 0,-123.5 0,-117.5 6,-111.5 12,-111.5 12,-111.5 109,-111.5 109,-111.5 115,-111.5 121,-117.5 121,-123.5 121,-123.5 121,-167.5 121,-167.5 121,-173.5 115,-179.5 109,-179.5\"/>\n<text text-anchor=\"start\" x=\"32.5\" y=\"-164.3\" font-family=\"Helvetica,sans-Serif\" font-size=\"14.00\">gini = 0.0</text>\n<text text-anchor=\"start\" x=\"19.5\" y=\"-149.3\" font-family=\"Helvetica,sans-Serif\" font-size=\"14.00\">samples = 46</text>\n<text text-anchor=\"start\" x=\"10\" y=\"-134.3\" font-family=\"Helvetica,sans-Serif\" font-size=\"14.00\">value = [0, 46, 0]</text>\n<text text-anchor=\"start\" x=\"8\" y=\"-119.3\" font-family=\"Helvetica,sans-Serif\" font-size=\"14.00\">class = versicolor</text>\n</g>\n<!-- 4&#45;&gt;5 -->\n<g id=\"edge5\" class=\"edge\">\n<title>4&#45;&gt;5</title>\n<path fill=\"none\" stroke=\"black\" d=\"M148.66,-222.91C135.04,-211.1 120.17,-198.22 106.6,-186.45\"/>\n<polygon fill=\"black\" stroke=\"black\" points=\"108.62,-183.57 98.77,-179.67 104.03,-188.86 108.62,-183.57\"/>\n</g>\n<!-- 6 -->\n<g id=\"node7\" class=\"node\">\n<title>6</title>\n<path fill=\"#8139e5\" stroke=\"black\" d=\"M240,-179.5C240,-179.5 151,-179.5 151,-179.5 145,-179.5 139,-173.5 139,-167.5 139,-167.5 139,-123.5 139,-123.5 139,-117.5 145,-111.5 151,-111.5 151,-111.5 240,-111.5 240,-111.5 246,-111.5 252,-117.5 252,-123.5 252,-123.5 252,-167.5 252,-167.5 252,-173.5 246,-179.5 240,-179.5\"/>\n<text text-anchor=\"start\" x=\"167.5\" y=\"-164.3\" font-family=\"Helvetica,sans-Serif\" font-size=\"14.00\">gini = 0.0</text>\n<text text-anchor=\"start\" x=\"158\" y=\"-149.3\" font-family=\"Helvetica,sans-Serif\" font-size=\"14.00\">samples = 1</text>\n<text text-anchor=\"start\" x=\"148.5\" y=\"-134.3\" font-family=\"Helvetica,sans-Serif\" font-size=\"14.00\">value = [0, 0, 1]</text>\n<text text-anchor=\"start\" x=\"147\" y=\"-119.3\" font-family=\"Helvetica,sans-Serif\" font-size=\"14.00\">class = virginica</text>\n</g>\n<!-- 4&#45;&gt;6 -->\n<g id=\"edge6\" class=\"edge\">\n<title>4&#45;&gt;6</title>\n<path fill=\"none\" stroke=\"black\" d=\"M195.5,-222.91C195.5,-212.2 195.5,-200.62 195.5,-189.78\"/>\n<polygon fill=\"black\" stroke=\"black\" points=\"199,-189.67 195.5,-179.67 192,-189.67 199,-189.67\"/>\n</g>\n<!-- 8 -->\n<g id=\"node9\" class=\"node\">\n<title>8</title>\n<path fill=\"#8139e5\" stroke=\"black\" d=\"M371,-179.5C371,-179.5 282,-179.5 282,-179.5 276,-179.5 270,-173.5 270,-167.5 270,-167.5 270,-123.5 270,-123.5 270,-117.5 276,-111.5 282,-111.5 282,-111.5 371,-111.5 371,-111.5 377,-111.5 383,-117.5 383,-123.5 383,-123.5 383,-167.5 383,-167.5 383,-173.5 377,-179.5 371,-179.5\"/>\n<text text-anchor=\"start\" x=\"298.5\" y=\"-164.3\" font-family=\"Helvetica,sans-Serif\" font-size=\"14.00\">gini = 0.0</text>\n<text text-anchor=\"start\" x=\"289\" y=\"-149.3\" font-family=\"Helvetica,sans-Serif\" font-size=\"14.00\">samples = 3</text>\n<text text-anchor=\"start\" x=\"279.5\" y=\"-134.3\" font-family=\"Helvetica,sans-Serif\" font-size=\"14.00\">value = [0, 0, 3]</text>\n<text text-anchor=\"start\" x=\"278\" y=\"-119.3\" font-family=\"Helvetica,sans-Serif\" font-size=\"14.00\">class = virginica</text>\n</g>\n<!-- 7&#45;&gt;8 -->\n<g id=\"edge8\" class=\"edge\">\n<title>7&#45;&gt;8</title>\n<path fill=\"none\" stroke=\"black\" d=\"M383.97,-222.91C375.42,-211.54 366.12,-199.18 357.54,-187.77\"/>\n<polygon fill=\"black\" stroke=\"black\" points=\"360.25,-185.55 351.45,-179.67 354.66,-189.76 360.25,-185.55\"/>\n</g>\n<!-- 9 -->\n<g id=\"node10\" class=\"node\">\n<title>9</title>\n<path fill=\"#9cf2c0\" stroke=\"black\" d=\"M548,-187C548,-187 413,-187 413,-187 407,-187 401,-181 401,-175 401,-175 401,-116 401,-116 401,-110 407,-104 413,-104 413,-104 548,-104 548,-104 554,-104 560,-110 560,-116 560,-116 560,-175 560,-175 560,-181 554,-187 548,-187\"/>\n<text text-anchor=\"start\" x=\"409\" y=\"-171.8\" font-family=\"Helvetica,sans-Serif\" font-size=\"14.00\">petal length (cm) ≤ 5.45</text>\n<text text-anchor=\"start\" x=\"445\" y=\"-156.8\" font-family=\"Helvetica,sans-Serif\" font-size=\"14.00\">gini = 0.444</text>\n<text text-anchor=\"start\" x=\"443\" y=\"-141.8\" font-family=\"Helvetica,sans-Serif\" font-size=\"14.00\">samples = 3</text>\n<text text-anchor=\"start\" x=\"433.5\" y=\"-126.8\" font-family=\"Helvetica,sans-Serif\" font-size=\"14.00\">value = [0, 2, 1]</text>\n<text text-anchor=\"start\" x=\"428\" y=\"-111.8\" font-family=\"Helvetica,sans-Serif\" font-size=\"14.00\">class = versicolor</text>\n</g>\n<!-- 7&#45;&gt;9 -->\n<g id=\"edge9\" class=\"edge\">\n<title>7&#45;&gt;9</title>\n<path fill=\"none\" stroke=\"black\" d=\"M437.4,-222.91C442.31,-214.2 447.56,-204.9 452.64,-195.89\"/>\n<polygon fill=\"black\" stroke=\"black\" points=\"455.78,-197.45 457.64,-187.02 449.68,-194.01 455.78,-197.45\"/>\n</g>\n<!-- 10 -->\n<g id=\"node11\" class=\"node\">\n<title>10</title>\n<path fill=\"#39e581\" stroke=\"black\" d=\"M461,-68C461,-68 364,-68 364,-68 358,-68 352,-62 352,-56 352,-56 352,-12 352,-12 352,-6 358,0 364,0 364,0 461,0 461,0 467,0 473,-6 473,-12 473,-12 473,-56 473,-56 473,-62 467,-68 461,-68\"/>\n<text text-anchor=\"start\" x=\"384.5\" y=\"-52.8\" font-family=\"Helvetica,sans-Serif\" font-size=\"14.00\">gini = 0.0</text>\n<text text-anchor=\"start\" x=\"375\" y=\"-37.8\" font-family=\"Helvetica,sans-Serif\" font-size=\"14.00\">samples = 2</text>\n<text text-anchor=\"start\" x=\"365.5\" y=\"-22.8\" font-family=\"Helvetica,sans-Serif\" font-size=\"14.00\">value = [0, 2, 0]</text>\n<text text-anchor=\"start\" x=\"360\" y=\"-7.8\" font-family=\"Helvetica,sans-Serif\" font-size=\"14.00\">class = versicolor</text>\n</g>\n<!-- 9&#45;&gt;10 -->\n<g id=\"edge10\" class=\"edge\">\n<title>9&#45;&gt;10</title>\n<path fill=\"none\" stroke=\"black\" d=\"M455.18,-103.73C449.74,-94.97 443.99,-85.7 438.52,-76.91\"/>\n<polygon fill=\"black\" stroke=\"black\" points=\"441.43,-74.95 433.18,-68.3 435.48,-78.64 441.43,-74.95\"/>\n</g>\n<!-- 11 -->\n<g id=\"node12\" class=\"node\">\n<title>11</title>\n<path fill=\"#8139e5\" stroke=\"black\" d=\"M592,-68C592,-68 503,-68 503,-68 497,-68 491,-62 491,-56 491,-56 491,-12 491,-12 491,-6 497,0 503,0 503,0 592,0 592,0 598,0 604,-6 604,-12 604,-12 604,-56 604,-56 604,-62 598,-68 592,-68\"/>\n<text text-anchor=\"start\" x=\"519.5\" y=\"-52.8\" font-family=\"Helvetica,sans-Serif\" font-size=\"14.00\">gini = 0.0</text>\n<text text-anchor=\"start\" x=\"510\" y=\"-37.8\" font-family=\"Helvetica,sans-Serif\" font-size=\"14.00\">samples = 1</text>\n<text text-anchor=\"start\" x=\"500.5\" y=\"-22.8\" font-family=\"Helvetica,sans-Serif\" font-size=\"14.00\">value = [0, 0, 1]</text>\n<text text-anchor=\"start\" x=\"499\" y=\"-7.8\" font-family=\"Helvetica,sans-Serif\" font-size=\"14.00\">class = virginica</text>\n</g>\n<!-- 9&#45;&gt;11 -->\n<g id=\"edge11\" class=\"edge\">\n<title>9&#45;&gt;11</title>\n<path fill=\"none\" stroke=\"black\" d=\"M505.45,-103.73C510.81,-94.97 516.48,-85.7 521.86,-76.91\"/>\n<polygon fill=\"black\" stroke=\"black\" points=\"524.89,-78.66 527.12,-68.3 518.92,-75 524.89,-78.66\"/>\n</g>\n<!-- 13 -->\n<g id=\"node14\" class=\"node\">\n<title>13</title>\n<path fill=\"#c09cf2\" stroke=\"black\" d=\"M707.5,-306C707.5,-306 569.5,-306 569.5,-306 563.5,-306 557.5,-300 557.5,-294 557.5,-294 557.5,-235 557.5,-235 557.5,-229 563.5,-223 569.5,-223 569.5,-223 707.5,-223 707.5,-223 713.5,-223 719.5,-229 719.5,-235 719.5,-235 719.5,-294 719.5,-294 719.5,-300 713.5,-306 707.5,-306\"/>\n<text text-anchor=\"start\" x=\"565.5\" y=\"-290.8\" font-family=\"Helvetica,sans-Serif\" font-size=\"14.00\">sepal length (cm) ≤ 5.95</text>\n<text text-anchor=\"start\" x=\"603\" y=\"-275.8\" font-family=\"Helvetica,sans-Serif\" font-size=\"14.00\">gini = 0.444</text>\n<text text-anchor=\"start\" x=\"601\" y=\"-260.8\" font-family=\"Helvetica,sans-Serif\" font-size=\"14.00\">samples = 3</text>\n<text text-anchor=\"start\" x=\"591.5\" y=\"-245.8\" font-family=\"Helvetica,sans-Serif\" font-size=\"14.00\">value = [0, 1, 2]</text>\n<text text-anchor=\"start\" x=\"590\" y=\"-230.8\" font-family=\"Helvetica,sans-Serif\" font-size=\"14.00\">class = virginica</text>\n</g>\n<!-- 12&#45;&gt;13 -->\n<g id=\"edge13\" class=\"edge\">\n<title>12&#45;&gt;13</title>\n<path fill=\"none\" stroke=\"black\" d=\"M638.5,-341.91C638.5,-333.65 638.5,-324.86 638.5,-316.3\"/>\n<polygon fill=\"black\" stroke=\"black\" points=\"642,-316.02 638.5,-306.02 635,-316.02 642,-316.02\"/>\n</g>\n<!-- 16 -->\n<g id=\"node17\" class=\"node\">\n<title>16</title>\n<path fill=\"#8139e5\" stroke=\"black\" d=\"M843,-298.5C843,-298.5 750,-298.5 750,-298.5 744,-298.5 738,-292.5 738,-286.5 738,-286.5 738,-242.5 738,-242.5 738,-236.5 744,-230.5 750,-230.5 750,-230.5 843,-230.5 843,-230.5 849,-230.5 855,-236.5 855,-242.5 855,-242.5 855,-286.5 855,-286.5 855,-292.5 849,-298.5 843,-298.5\"/>\n<text text-anchor=\"start\" x=\"768.5\" y=\"-283.3\" font-family=\"Helvetica,sans-Serif\" font-size=\"14.00\">gini = 0.0</text>\n<text text-anchor=\"start\" x=\"755.5\" y=\"-268.3\" font-family=\"Helvetica,sans-Serif\" font-size=\"14.00\">samples = 42</text>\n<text text-anchor=\"start\" x=\"746\" y=\"-253.3\" font-family=\"Helvetica,sans-Serif\" font-size=\"14.00\">value = [0, 0, 42]</text>\n<text text-anchor=\"start\" x=\"748\" y=\"-238.3\" font-family=\"Helvetica,sans-Serif\" font-size=\"14.00\">class = virginica</text>\n</g>\n<!-- 12&#45;&gt;16 -->\n<g id=\"edge16\" class=\"edge\">\n<title>12&#45;&gt;16</title>\n<path fill=\"none\" stroke=\"black\" d=\"M693.32,-341.91C709.56,-329.88 727.31,-316.73 743.44,-304.79\"/>\n<polygon fill=\"black\" stroke=\"black\" points=\"745.76,-307.43 751.71,-298.67 741.59,-301.81 745.76,-307.43\"/>\n</g>\n<!-- 14 -->\n<g id=\"node15\" class=\"node\">\n<title>14</title>\n<path fill=\"#39e581\" stroke=\"black\" d=\"M687,-179.5C687,-179.5 590,-179.5 590,-179.5 584,-179.5 578,-173.5 578,-167.5 578,-167.5 578,-123.5 578,-123.5 578,-117.5 584,-111.5 590,-111.5 590,-111.5 687,-111.5 687,-111.5 693,-111.5 699,-117.5 699,-123.5 699,-123.5 699,-167.5 699,-167.5 699,-173.5 693,-179.5 687,-179.5\"/>\n<text text-anchor=\"start\" x=\"610.5\" y=\"-164.3\" font-family=\"Helvetica,sans-Serif\" font-size=\"14.00\">gini = 0.0</text>\n<text text-anchor=\"start\" x=\"601\" y=\"-149.3\" font-family=\"Helvetica,sans-Serif\" font-size=\"14.00\">samples = 1</text>\n<text text-anchor=\"start\" x=\"591.5\" y=\"-134.3\" font-family=\"Helvetica,sans-Serif\" font-size=\"14.00\">value = [0, 1, 0]</text>\n<text text-anchor=\"start\" x=\"586\" y=\"-119.3\" font-family=\"Helvetica,sans-Serif\" font-size=\"14.00\">class = versicolor</text>\n</g>\n<!-- 13&#45;&gt;14 -->\n<g id=\"edge14\" class=\"edge\">\n<title>13&#45;&gt;14</title>\n<path fill=\"none\" stroke=\"black\" d=\"M638.5,-222.91C638.5,-212.2 638.5,-200.62 638.5,-189.78\"/>\n<polygon fill=\"black\" stroke=\"black\" points=\"642,-189.67 638.5,-179.67 635,-189.67 642,-189.67\"/>\n</g>\n<!-- 15 -->\n<g id=\"node16\" class=\"node\">\n<title>15</title>\n<path fill=\"#8139e5\" stroke=\"black\" d=\"M818,-179.5C818,-179.5 729,-179.5 729,-179.5 723,-179.5 717,-173.5 717,-167.5 717,-167.5 717,-123.5 717,-123.5 717,-117.5 723,-111.5 729,-111.5 729,-111.5 818,-111.5 818,-111.5 824,-111.5 830,-117.5 830,-123.5 830,-123.5 830,-167.5 830,-167.5 830,-173.5 824,-179.5 818,-179.5\"/>\n<text text-anchor=\"start\" x=\"745.5\" y=\"-164.3\" font-family=\"Helvetica,sans-Serif\" font-size=\"14.00\">gini = 0.0</text>\n<text text-anchor=\"start\" x=\"736\" y=\"-149.3\" font-family=\"Helvetica,sans-Serif\" font-size=\"14.00\">samples = 2</text>\n<text text-anchor=\"start\" x=\"726.5\" y=\"-134.3\" font-family=\"Helvetica,sans-Serif\" font-size=\"14.00\">value = [0, 0, 2]</text>\n<text text-anchor=\"start\" x=\"725\" y=\"-119.3\" font-family=\"Helvetica,sans-Serif\" font-size=\"14.00\">class = virginica</text>\n</g>\n<!-- 13&#45;&gt;15 -->\n<g id=\"edge15\" class=\"edge\">\n<title>13&#45;&gt;15</title>\n<path fill=\"none\" stroke=\"black\" d=\"M685.34,-222.91C698.96,-211.1 713.83,-198.22 727.4,-186.45\"/>\n<polygon fill=\"black\" stroke=\"black\" points=\"729.97,-188.86 735.23,-179.67 725.38,-183.57 729.97,-188.86\"/>\n</g>\n</g>\n</svg>\n",
            "text/plain": [
              "<graphviz.sources.Source at 0x7b122d61ed70>"
            ]
          },
          "metadata": {},
          "execution_count": 22
        }
      ]
    },
    {
      "cell_type": "code",
      "source": [
        "from six import StringIO\n",
        "import graphviz\n",
        "\n",
        "dot_data = StringIO()\n",
        "tree.export_graphviz(clf, out_file=dot_data,\n",
        "feature_names = iris.feature_names,\n",
        "class_names=iris.target_names,\n",
        "filled=True, rounded=True,\n",
        "impurity=False)\n",
        "graph = graphviz.Source(dot_data.getvalue())\n",
        "graph.render(\"iris\", view=True)"
      ],
      "metadata": {
        "colab": {
          "base_uri": "https://localhost:8080/",
          "height": 36
        },
        "id": "qZ-rcK_nSeAI",
        "outputId": "98941b94-07f8-446f-9ace-808b205b49a3"
      },
      "execution_count": 23,
      "outputs": [
        {
          "output_type": "execute_result",
          "data": {
            "text/plain": [
              "'iris.pdf'"
            ],
            "application/vnd.google.colaboratory.intrinsic+json": {
              "type": "string"
            }
          },
          "metadata": {},
          "execution_count": 23
        }
      ]
    },
    {
      "cell_type": "code",
      "source": [
        "print(test_data[1], test_target[1])\n",
        "print(iris.feature_names, iris.target_names)"
      ],
      "metadata": {
        "colab": {
          "base_uri": "https://localhost:8080/"
        },
        "id": "FX6AhdFXShZp",
        "outputId": "fa56157b-3c6a-4a4e-f3f9-d9e610749f65"
      },
      "execution_count": 24,
      "outputs": [
        {
          "output_type": "stream",
          "name": "stdout",
          "text": [
            "[7.  3.2 4.7 1.4] 1\n",
            "['sepal length (cm)', 'sepal width (cm)', 'petal length (cm)', 'petal width (cm)'] ['setosa' 'versicolor' 'virginica']\n"
          ]
        }
      ]
    },
    {
      "cell_type": "code",
      "source": [
        "import numpy as np\n",
        "from sklearn.model_selection import train_test_split\n",
        "\n",
        "y = range(6)\n",
        "print(list(y))\n",
        "print(train_test_split(y))"
      ],
      "metadata": {
        "colab": {
          "base_uri": "https://localhost:8080/"
        },
        "id": "mrJ0SgI7SpZ8",
        "outputId": "11265460-b278-4440-affd-08d1b0ecff8c"
      },
      "execution_count": 25,
      "outputs": [
        {
          "output_type": "stream",
          "name": "stdout",
          "text": [
            "[0, 1, 2, 3, 4, 5]\n",
            "[[5, 2, 0, 4], [1, 3]]\n"
          ]
        }
      ]
    },
    {
      "cell_type": "code",
      "source": [
        "from sklearn import datasets\n",
        "iris= datasets.load_iris()\n",
        "X = iris.data\n",
        "y = iris.target\n",
        "\n",
        "from sklearn.model_selection import train_test_split\n",
        "X_train, X_test, y_train, y_test = train_test_split(X, y, test_size=.5)\n",
        "from sklearn import tree\n",
        "clf= tree.DecisionTreeClassifier()\n",
        "clf.fit(X_train, y_train)\n",
        "predictions = clf.predict(X_test)\n",
        "print('예측:\\n', predictions)\n",
        "print('정답(y_test):\\n', y_test)"
      ],
      "metadata": {
        "colab": {
          "base_uri": "https://localhost:8080/"
        },
        "id": "aZm7tpFTSzvO",
        "outputId": "f8cc079f-715b-4b3c-f038-f223a2d26c67"
      },
      "execution_count": 26,
      "outputs": [
        {
          "output_type": "stream",
          "name": "stdout",
          "text": [
            "예측:\n",
            " [2 0 2 2 1 1 2 2 0 1 2 1 2 1 2 1 1 1 1 0 2 0 0 2 2 2 0 0 1 1 1 0 1 1 2 2 2\n",
            " 1 0 1 0 2 1 0 2 1 1 2 0 1 2 0 0 1 2 0 1 0 2 1 2 0 1 0 2 2 0 2 1 0 2 2 2 2\n",
            " 2]\n",
            "정답(y_test):\n",
            " [2 0 2 2 1 1 2 1 0 1 2 1 1 2 2 1 1 1 2 0 2 0 0 2 2 2 0 0 1 1 2 0 1 1 2 2 1\n",
            " 1 0 1 0 2 1 0 2 1 1 2 0 2 2 0 0 1 2 0 1 0 2 1 1 0 1 0 2 2 0 2 1 0 2 2 2 2\n",
            " 1]\n"
          ]
        }
      ]
    },
    {
      "cell_type": "code",
      "source": [
        "X = [[0], [1], [2], [3], [4], [5]]\n",
        "y = [0, 0, 0, 1, 1, 1]\n",
        "\n",
        "from sklearn.neighbors import KNeighborsClassifier\n",
        "neigh = KNeighborsClassifier(n_neighbors=3)\n",
        "neigh.fit(X, y)\n",
        "KNeighborsClassifier(algorithm='auto', leaf_size=30, metric ='minkowski', metric_params=None, n_jobs=None, n_neighbors=3, p=2, weights='uniform')\n",
        "\n",
        "print(neigh.predict([[2.8]]))\n",
        "print(neigh.predict_proba([[2.8]]))"
      ],
      "metadata": {
        "colab": {
          "base_uri": "https://localhost:8080/"
        },
        "id": "fozyThorS8d0",
        "outputId": "2ca7f8bb-7833-40bb-e5e4-a8630eba48dd"
      },
      "execution_count": 27,
      "outputs": [
        {
          "output_type": "stream",
          "name": "stdout",
          "text": [
            "[1]\n",
            "[[0.33333333 0.66666667]]\n"
          ]
        }
      ]
    },
    {
      "cell_type": "code",
      "source": [
        "import random\n",
        "\n",
        "class myKNN():\n",
        "  def fit(self, x_train, y_train):\n",
        "    self.X_train = X_train\n",
        "    self.y_train = y_train\n",
        "  def predict(self, x_test):\n",
        "    predictions = []\n",
        "    for row in X_test:\n",
        "      label = random.choice(self.y_train)\n",
        "      predictions.append(label)\n",
        "    return predictions"
      ],
      "metadata": {
        "id": "skFLzNkkTNrD"
      },
      "execution_count": 29,
      "outputs": []
    },
    {
      "cell_type": "code",
      "source": [
        "from sklearn import datasets\n",
        "iris = datasets.load_iris()\n",
        "X = iris.data\n",
        "y = iris.target\n",
        "\n",
        "from sklearn.model_selection import train_test_split\n",
        "X_train, X_test, y_train, y_test = train_test_split(X, y, test_size=.5)"
      ],
      "metadata": {
        "id": "TeKjvIerTOgt"
      },
      "execution_count": 30,
      "outputs": []
    },
    {
      "cell_type": "code",
      "source": [
        "# from sklearn.neighbors import KNeighborsClassifier 사용하지 않고\n",
        "clf = myKNN()   #나만의 분류자를 사용\n",
        "clf.fit(X_train, y_train)\n",
        "predictions = clf.predict(X_test)\n",
        "\n",
        "from sklearn.metrics import accuracy_score\n",
        "print(accuracy_score(y_test, predictions))"
      ],
      "metadata": {
        "colab": {
          "base_uri": "https://localhost:8080/"
        },
        "id": "GceRJ0oOTQg8",
        "outputId": "a8791da6-8697-4d72-ec5b-39d0bcaa7387"
      },
      "execution_count": 31,
      "outputs": [
        {
          "output_type": "stream",
          "name": "stdout",
          "text": [
            "0.28\n"
          ]
        }
      ]
    },
    {
      "cell_type": "code",
      "source": [
        "from scipy.spatial import distance\n",
        "def euc(a,b):\n",
        "  return distance.euclidean(a, b)\n",
        "\n",
        "class eucKNN():\n",
        "  def fit(self, X_train, y_train):\n",
        "    self.X_train = X_train\n",
        "    self.y_train = y_train\n",
        "  def predict(self, X_test):\n",
        "    predictions = []\n",
        "    for row in X_test:\n",
        "      label = self.closest(row)\n",
        "      predictions.append(label)\n",
        "    return predictions\n",
        "  def closest(self, row):\n",
        "    best_dist = euc(row, self.X_train[0])\n",
        "    best_index = 0\n",
        "    for i in range(1, len(self.X_train)):\n",
        "      dist = euc(row, self.X_train[1])\n",
        "      if dist < best_dist:\n",
        "        best_dist = dist\n",
        "        best_index = 1\n",
        "    return self.y_train[best_index]\n",
        "\n",
        "from sklearn import datasets\n",
        "iris = datasets.load_iris()\n",
        "X = iris.data\n",
        "y = iris.target\n",
        "\n",
        "from sklearn.model_selection import train_test_split\n",
        "X_train, X_test, y_train, y_test = train_test_split(X, y, test_size = .5)\n",
        "\n",
        "clf = eucKNN()\n",
        "clf.fit(X_train, y_train)\n",
        "predictions = clf.predict(X_test)\n",
        "\n",
        "from sklearn.metrics import accuracy_score\n",
        "print(accuracy_score(y_test, predictions))"
      ],
      "metadata": {
        "colab": {
          "base_uri": "https://localhost:8080/"
        },
        "id": "O2DGIx5rTZvD",
        "outputId": "1249b543-c8cc-48c1-b611-5c8fea5ba2ea"
      },
      "execution_count": 32,
      "outputs": [
        {
          "output_type": "stream",
          "name": "stdout",
          "text": [
            "0.41333333333333333\n"
          ]
        }
      ]
    },
    {
      "cell_type": "code",
      "source": [
        "from sklearn import datasets\n",
        "\n",
        "iris= datasets.load_iris()\n",
        "X = iris.data\n",
        "y = iris.target\n",
        "\n",
        "from sklearn.model_selection import train_test_split\n",
        "X_train, X_test, y_train, y_test = train_test_split(X, y, test_size=.5)"
      ],
      "metadata": {
        "id": "6FhfJgZLTfRY"
      },
      "execution_count": 33,
      "outputs": []
    },
    {
      "cell_type": "code",
      "source": [
        "from sklearn import svm\n",
        "clf = svm.SVC (gamma=0.001, C=100.)\n",
        "clf.fit(X_train, y_train)\n",
        "predictions = clf.predict(X_test)\n",
        "print(y_test)\n",
        "\n",
        "from sklearn.metrics import accuracy_score\n",
        "print(accuracy_score(y_test, predictions))"
      ],
      "metadata": {
        "colab": {
          "base_uri": "https://localhost:8080/"
        },
        "id": "MbLawjeiTgE9",
        "outputId": "6ac6ab8d-6ca4-4baf-c97b-61290fb6e7b4"
      },
      "execution_count": 34,
      "outputs": [
        {
          "output_type": "stream",
          "name": "stdout",
          "text": [
            "[2 1 0 0 1 1 0 0 1 0 0 0 2 0 0 0 2 2 2 2 2 1 0 0 1 0 1 0 0 0 2 1 1 0 1 0 2\n",
            " 2 1 2 2 2 1 0 0 1 1 2 0 2 1 1 1 0 0 2 2 2 2 2 2 1 1 2 1 0 1 2 1 0 1 1 2 1\n",
            " 0]\n",
            "0.9733333333333334\n"
          ]
        }
      ]
    },
    {
      "cell_type": "code",
      "source": [
        "\n",
        "import numpy as np\n",
        "points = 500\n",
        "vectors = []\n",
        "\n",
        "for i in range(points):\n",
        "  x1= np.random.normal(0.0, 0.5)\n",
        "  y1= x1 * 0.3 +0.5 + np.random.normal(0.0, 0.05)\n",
        "  vectors.append([x1, y1])\n",
        "\n",
        "x_data = [v[0] for v in vectors]\n",
        "y_data = [v[1] for v in vectors]"
      ],
      "metadata": {
        "id": "YgslS0ClTs8Y"
      },
      "execution_count": 35,
      "outputs": []
    },
    {
      "cell_type": "code",
      "source": [
        "import matplotlib.pyplot as plt\n",
        "\n",
        "plt.plot(x_data, y_data, 'bo', label='Data')\n",
        "plt.legend()\n",
        "plt.show();"
      ],
      "metadata": {
        "colab": {
          "base_uri": "https://localhost:8080/",
          "height": 430
        },
        "id": "Jfe_1Y1QTtwT",
        "outputId": "1a609625-db08-4aba-c9a0-864634aac1b1"
      },
      "execution_count": 36,
      "outputs": [
        {
          "output_type": "display_data",
          "data": {
            "text/plain": [
              "<Figure size 640x480 with 1 Axes>"
            ],
            "image/png": "[encoded data removed]"
          },
          "metadata": {}
        }
      ]
    },
    {
      "cell_type": "code",
      "source": [
        "import tensorflow.compat.v1 as tf\n",
        "tf.disable_v2_behavior()\n",
        "\n",
        "a = tf.Variable(tf.random.uniform([1], -1.0, 1.0))\n",
        "b = tf.Variable(tf.zeros([1]))\n",
        "y = a * x_data + b\n",
        "\n",
        "loss = tf.reduce_mean(tf.square(y - y_data))\n",
        "\n",
        "optimizer = tf.train.GradientDescentOptimizer(0.5)\n",
        "train = optimizer.minimize(loss)\n",
        "\n",
        "init = tf.global_variables_initializer()\n",
        "sess = tf.Session()\n",
        "sess.run(init)"
      ],
      "metadata": {
        "id": "VMHB-2mTTylJ"
      },
      "execution_count": 39,
      "outputs": []
    },
    {
      "cell_type": "code",
      "source": [
        "%matplotlib inline\n",
        "for step in range(10):\n",
        "  sess.run(train)\n",
        "  plt.plot(x_data, y_data, 'bo')\n",
        "  plt.plot(x_data, sess.run(a) * x_data + sess.run(b))\n",
        "plt.show()"
      ],
      "metadata": {
        "colab": {
          "base_uri": "https://localhost:8080/",
          "height": 432
        },
        "id": "XzK1i0OmT0Tt",
        "outputId": "8eb7e41a-0db5-49ed-8d4e-1180e3ed11bc"
      },
      "execution_count": 40,
      "outputs": [
        {
          "output_type": "display_data",
          "data": {
            "text/plain": [
              "<Figure size 640x480 with 1 Axes>"
            ],
            "image/png": "[encoded data removed]"
          },
          "metadata": {}
        }
      ]
    },
    {
      "cell_type": "code",
      "source": [
        "from sklearn import cluster, datasets\n",
        "import matplotlib.pyplot as plt\n",
        "\n",
        "iris = datasets.load_iris()\n",
        "X = iris.data[:, 2:]\n",
        "y = iris.target\n",
        "plt.xlabel('Petal Length')\n",
        "plt.ylabel('Petal width')\n",
        "plt.axis([0, X[:, 0].max()+0.2, 0, X[:, 1].max()+0.2])\n",
        "plt.plot(X[:, 0], X[:, 1], 'bo')"
      ],
      "metadata": {
        "colab": {
          "base_uri": "https://localhost:8080/",
          "height": 468
        },
        "id": "gGT7MsxrUGcD",
        "outputId": "165116cc-e03d-47e9-c4c0-810a14c9bdeb"
      },
      "execution_count": 41,
      "outputs": [
        {
          "output_type": "execute_result",
          "data": {
            "text/plain": [
              "[<matplotlib.lines.Line2D at 0x7b11cc2c65f0>]"
            ]
          },
          "metadata": {},
          "execution_count": 41
        },
        {
          "output_type": "display_data",
          "data": {
            "text/plain": [
              "<Figure size 640x480 with 1 Axes>"
            ],
            "image/png": "[encoded data removed]"
          },
          "metadata": {}
        }
      ]
    },
    {
      "cell_type": "code",
      "source": [
        "from sklearn import cluster, datasets\n",
        "import matplotlib.pyplot as plt\n",
        "\n",
        "iris = datasets.load_iris()\n",
        "X = iris.data[:, 2:]\n",
        "y = iris.target\n",
        "plt.scatter (X[:, 0], X[:, 1], c=y, cmap='viridis', edgecolor='k')\n",
        "\n",
        "plt.xlabel('Petal Length')\n",
        "plt.ylabel('Petal width')\n",
        "plt.axis([0, X[:, 0].max()+0.2, 0, X[:, 1].max()+0.2])\n",
        "\n",
        "plt.show()"
      ],
      "metadata": {
        "colab": {
          "base_uri": "https://localhost:8080/",
          "height": 449
        },
        "id": "0gqKjkYDUI38",
        "outputId": "9a8f46a5-3877-48a3-d637-344f6664325a"
      },
      "execution_count": 42,
      "outputs": [
        {
          "output_type": "display_data",
          "data": {
            "text/plain": [
              "<Figure size 640x480 with 1 Axes>"
            ],
            "image/png": "[encoded data removed]"
          },
          "metadata": {}
        }
      ]
    },
    {
      "cell_type": "code",
      "source": [
        "from sklearn.cluster import KMeans\n",
        "import numpy as np\n",
        "\n",
        "X = np.array([[1, 5], [3, 4], [2, 3], [5, 3], [6, 2], [5, 1]])\n",
        "\n",
        "kmeans = KMeans(n_clusters=2, random_state=0).fit(X)\n",
        "\n",
        "print(kmeans.labels_)\n",
        "print(kmeans.cluster_centers_)"
      ],
      "metadata": {
        "colab": {
          "base_uri": "https://localhost:8080/"
        },
        "id": "5yY9q-yxUP3X",
        "outputId": "adcd0ddf-7579-4683-a184-9a52a399093b"
      },
      "execution_count": 43,
      "outputs": [
        {
          "output_type": "stream",
          "name": "stderr",
          "text": [
            "/usr/local/lib/python3.10/dist-packages/sklearn/cluster/_kmeans.py:870: FutureWarning: The default value of `n_init` will change from 10 to 'auto' in 1.4. Set the value of `n_init` explicitly to suppress the warning\n",
            "  warnings.warn(\n"
          ]
        },
        {
          "output_type": "stream",
          "name": "stdout",
          "text": [
            "[1 1 1 0 0 0]\n",
            "[[5.33333333 2.        ]\n",
            " [2.         4.        ]]\n"
          ]
        }
      ]
    },
    {
      "cell_type": "code",
      "source": [
        "from sklearn import cluster, datasets\n",
        "import matplotlib.pyplot as plt\n",
        "\n",
        "iris =  datasets.load_iris()\n",
        "X = iris.data[:, 2:]\n",
        "y= iris.target\n",
        "\n",
        "X1 = iris.data[[1, 50, 100], 2:]\n",
        "yl = iris.target[[1, 50, 100]]\n",
        "k_means = cluster.KMeans(n_clusters=3).fit(X)\n",
        "y_pred = k_means.predict(X1)\n",
        "plt.scatter(X[:, 0], X[:, 1], c=y, cmap='viridis', edgecolor='k')\n",
        "plt.scatter(X1[:,0], X1[:, 1], c=y_pred, cmap='viridis', s=200, edgecolor='k')\n",
        "\n",
        "plt.xlabel('Petal Length')\n",
        "plt.ylabel('Petal width')\n",
        "plt.axis([0, 8, -0.5, 3.5])\n",
        "plt.show()"
      ],
      "metadata": {
        "colab": {
          "base_uri": "https://localhost:8080/",
          "height": 492
        },
        "id": "RSLjkq3AUWT7",
        "outputId": "6e04b748-0c1a-4bde-a3b5-4a85d300ea7a"
      },
      "execution_count": 44,
      "outputs": [
        {
          "output_type": "stream",
          "name": "stderr",
          "text": [
            "/usr/local/lib/python3.10/dist-packages/sklearn/cluster/_kmeans.py:870: FutureWarning: The default value of `n_init` will change from 10 to 'auto' in 1.4. Set the value of `n_init` explicitly to suppress the warning\n",
            "  warnings.warn(\n"
          ]
        },
        {
          "output_type": "display_data",
          "data": {
            "text/plain": [
              "<Figure size 640x480 with 1 Axes>"
            ],
            "image/png": "[encoded data removed]"
          },
          "metadata": {}
        }
      ]
    },
    {
      "cell_type": "code",
      "source": [
        "x = np.array([[1, 4], [4, 2]])\n",
        "y_pred = kmeans.predict(x)\n",
        "print(y_pred)\n",
        "plt.scatter (X[:,0], X[:,1], c=y, cmap='viridis', edgecolor='k')\n",
        "plt.scatter(x[:,0], x[:,1], c=y_pred, cmap='magma', s = 200, edgecolor='k')"
      ],
      "metadata": {
        "colab": {
          "base_uri": "https://localhost:8080/",
          "height": 467
        },
        "id": "cKIR3PcCUZyp",
        "outputId": "98263ed1-1f58-47f9-cfa0-d7eabd7437d5"
      },
      "execution_count": 45,
      "outputs": [
        {
          "output_type": "stream",
          "name": "stdout",
          "text": [
            "[1 0]\n"
          ]
        },
        {
          "output_type": "execute_result",
          "data": {
            "text/plain": [
              "<matplotlib.collections.PathCollection at 0x7b11bf5ff550>"
            ]
          },
          "metadata": {},
          "execution_count": 45
        },
        {
          "output_type": "display_data",
          "data": {
            "text/plain": [
              "<Figure size 640x480 with 1 Axes>"
            ],
            "image/png": "[encoded data removed]"
          },
          "metadata": {}
        }
      ]
    }
  ]
}